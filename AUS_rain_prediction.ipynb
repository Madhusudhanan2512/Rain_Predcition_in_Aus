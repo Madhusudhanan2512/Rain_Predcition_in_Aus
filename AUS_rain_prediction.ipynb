{
 "cells": [
  {
   "cell_type": "code",
   "execution_count": 1,
   "id": "22068bd5",
   "metadata": {},
   "outputs": [],
   "source": [
    "import numpy as np\n",
    "import pandas as pd\n",
    "import matplotlib.pyplot as plt\n",
    "import seaborn as sns"
   ]
  },
  {
   "cell_type": "code",
   "execution_count": 2,
   "id": "dcae8da3",
   "metadata": {},
   "outputs": [
    {
     "name": "stdout",
     "output_type": "stream",
     "text": [
      "Requirement already satisfied: pyreadr in c:\\users\\welcome\\anaconda3\\lib\\site-packages (0.4.7)\n",
      "Requirement already satisfied: pandas>=1.2.0 in c:\\users\\welcome\\anaconda3\\lib\\site-packages (from pyreadr) (1.4.4)\n",
      "Requirement already satisfied: numpy>=1.18.5 in c:\\users\\welcome\\anaconda3\\lib\\site-packages (from pandas>=1.2.0->pyreadr) (1.21.5)\n",
      "Requirement already satisfied: pytz>=2020.1 in c:\\users\\welcome\\anaconda3\\lib\\site-packages (from pandas>=1.2.0->pyreadr) (2022.1)\n",
      "Requirement already satisfied: python-dateutil>=2.8.1 in c:\\users\\welcome\\anaconda3\\lib\\site-packages (from pandas>=1.2.0->pyreadr) (2.8.2)\n",
      "Requirement already satisfied: six>=1.5 in c:\\users\\welcome\\anaconda3\\lib\\site-packages (from python-dateutil>=2.8.1->pandas>=1.2.0->pyreadr) (1.16.0)\n"
     ]
    },
    {
     "name": "stderr",
     "output_type": "stream",
     "text": [
      "WARNING: Ignoring invalid distribution -tatsmodels (c:\\users\\welcome\\anaconda3\\lib\\site-packages)\n",
      "WARNING: Ignoring invalid distribution -tatsmodels (c:\\users\\welcome\\anaconda3\\lib\\site-packages)\n",
      "WARNING: Ignoring invalid distribution -tatsmodels (c:\\users\\welcome\\anaconda3\\lib\\site-packages)\n",
      "WARNING: Ignoring invalid distribution -tatsmodels (c:\\users\\welcome\\anaconda3\\lib\\site-packages)\n",
      "WARNING: Ignoring invalid distribution -tatsmodels (c:\\users\\welcome\\anaconda3\\lib\\site-packages)\n",
      "WARNING: Ignoring invalid distribution -tatsmodels (c:\\users\\welcome\\anaconda3\\lib\\site-packages)\n"
     ]
    }
   ],
   "source": [
    "!pip install pyreadr"
   ]
  },
  {
   "cell_type": "code",
   "execution_count": 3,
   "id": "5f899363",
   "metadata": {},
   "outputs": [],
   "source": [
    "import pyreadr\n",
    "\n",
    "result = pyreadr.read_r('D:/data/weatherAUS.RData')"
   ]
  },
  {
   "cell_type": "code",
   "execution_count": 4,
   "id": "7ae896cd",
   "metadata": {},
   "outputs": [
    {
     "data": {
      "text/html": [
       "<div>\n",
       "<style scoped>\n",
       "    .dataframe tbody tr th:only-of-type {\n",
       "        vertical-align: middle;\n",
       "    }\n",
       "\n",
       "    .dataframe tbody tr th {\n",
       "        vertical-align: top;\n",
       "    }\n",
       "\n",
       "    .dataframe thead th {\n",
       "        text-align: right;\n",
       "    }\n",
       "</style>\n",
       "<table border=\"1\" class=\"dataframe\">\n",
       "  <thead>\n",
       "    <tr style=\"text-align: right;\">\n",
       "      <th></th>\n",
       "      <th>Date</th>\n",
       "      <th>Location</th>\n",
       "      <th>MinTemp</th>\n",
       "      <th>MaxTemp</th>\n",
       "      <th>Rainfall</th>\n",
       "      <th>Evaporation</th>\n",
       "      <th>Sunshine</th>\n",
       "      <th>WindGustDir</th>\n",
       "      <th>WindGustSpeed</th>\n",
       "      <th>WindDir9am</th>\n",
       "      <th>...</th>\n",
       "      <th>Humidity3pm</th>\n",
       "      <th>Pressure9am</th>\n",
       "      <th>Pressure3pm</th>\n",
       "      <th>Cloud9am</th>\n",
       "      <th>Cloud3pm</th>\n",
       "      <th>Temp9am</th>\n",
       "      <th>Temp3pm</th>\n",
       "      <th>RainToday</th>\n",
       "      <th>RISK_MM</th>\n",
       "      <th>RainTomorrow</th>\n",
       "    </tr>\n",
       "  </thead>\n",
       "  <tbody>\n",
       "    <tr>\n",
       "      <th>0</th>\n",
       "      <td>2008-12-01</td>\n",
       "      <td>Albury</td>\n",
       "      <td>13.4</td>\n",
       "      <td>22.9</td>\n",
       "      <td>0.6</td>\n",
       "      <td>NaN</td>\n",
       "      <td>NaN</td>\n",
       "      <td>W</td>\n",
       "      <td>44.0</td>\n",
       "      <td>W</td>\n",
       "      <td>...</td>\n",
       "      <td>22</td>\n",
       "      <td>1007.7</td>\n",
       "      <td>1007.1</td>\n",
       "      <td>8</td>\n",
       "      <td>NaN</td>\n",
       "      <td>16.9</td>\n",
       "      <td>21.8</td>\n",
       "      <td>No</td>\n",
       "      <td>0.0</td>\n",
       "      <td>No</td>\n",
       "    </tr>\n",
       "    <tr>\n",
       "      <th>1</th>\n",
       "      <td>2008-12-02</td>\n",
       "      <td>Albury</td>\n",
       "      <td>7.4</td>\n",
       "      <td>25.1</td>\n",
       "      <td>0.0</td>\n",
       "      <td>NaN</td>\n",
       "      <td>NaN</td>\n",
       "      <td>WNW</td>\n",
       "      <td>44.0</td>\n",
       "      <td>NNW</td>\n",
       "      <td>...</td>\n",
       "      <td>25</td>\n",
       "      <td>1010.6</td>\n",
       "      <td>1007.8</td>\n",
       "      <td>NaN</td>\n",
       "      <td>NaN</td>\n",
       "      <td>17.2</td>\n",
       "      <td>24.3</td>\n",
       "      <td>No</td>\n",
       "      <td>0.0</td>\n",
       "      <td>No</td>\n",
       "    </tr>\n",
       "    <tr>\n",
       "      <th>2</th>\n",
       "      <td>2008-12-03</td>\n",
       "      <td>Albury</td>\n",
       "      <td>12.9</td>\n",
       "      <td>25.7</td>\n",
       "      <td>0.0</td>\n",
       "      <td>NaN</td>\n",
       "      <td>NaN</td>\n",
       "      <td>WSW</td>\n",
       "      <td>46.0</td>\n",
       "      <td>W</td>\n",
       "      <td>...</td>\n",
       "      <td>30</td>\n",
       "      <td>1007.6</td>\n",
       "      <td>1008.7</td>\n",
       "      <td>NaN</td>\n",
       "      <td>2</td>\n",
       "      <td>21.0</td>\n",
       "      <td>23.2</td>\n",
       "      <td>No</td>\n",
       "      <td>0.0</td>\n",
       "      <td>No</td>\n",
       "    </tr>\n",
       "    <tr>\n",
       "      <th>3</th>\n",
       "      <td>2008-12-04</td>\n",
       "      <td>Albury</td>\n",
       "      <td>9.2</td>\n",
       "      <td>28.0</td>\n",
       "      <td>0.0</td>\n",
       "      <td>NaN</td>\n",
       "      <td>NaN</td>\n",
       "      <td>NE</td>\n",
       "      <td>24.0</td>\n",
       "      <td>SE</td>\n",
       "      <td>...</td>\n",
       "      <td>16</td>\n",
       "      <td>1017.6</td>\n",
       "      <td>1012.8</td>\n",
       "      <td>NaN</td>\n",
       "      <td>NaN</td>\n",
       "      <td>18.1</td>\n",
       "      <td>26.5</td>\n",
       "      <td>No</td>\n",
       "      <td>1.0</td>\n",
       "      <td>No</td>\n",
       "    </tr>\n",
       "    <tr>\n",
       "      <th>4</th>\n",
       "      <td>2008-12-05</td>\n",
       "      <td>Albury</td>\n",
       "      <td>17.5</td>\n",
       "      <td>32.3</td>\n",
       "      <td>1.0</td>\n",
       "      <td>NaN</td>\n",
       "      <td>NaN</td>\n",
       "      <td>W</td>\n",
       "      <td>41.0</td>\n",
       "      <td>ENE</td>\n",
       "      <td>...</td>\n",
       "      <td>33</td>\n",
       "      <td>1010.8</td>\n",
       "      <td>1006.0</td>\n",
       "      <td>7</td>\n",
       "      <td>8</td>\n",
       "      <td>17.8</td>\n",
       "      <td>29.7</td>\n",
       "      <td>No</td>\n",
       "      <td>0.2</td>\n",
       "      <td>No</td>\n",
       "    </tr>\n",
       "  </tbody>\n",
       "</table>\n",
       "<p>5 rows × 24 columns</p>\n",
       "</div>"
      ],
      "text/plain": [
       "         Date Location  MinTemp  MaxTemp  Rainfall  Evaporation  Sunshine  \\\n",
       "0  2008-12-01   Albury     13.4     22.9       0.6          NaN       NaN   \n",
       "1  2008-12-02   Albury      7.4     25.1       0.0          NaN       NaN   \n",
       "2  2008-12-03   Albury     12.9     25.7       0.0          NaN       NaN   \n",
       "3  2008-12-04   Albury      9.2     28.0       0.0          NaN       NaN   \n",
       "4  2008-12-05   Albury     17.5     32.3       1.0          NaN       NaN   \n",
       "\n",
       "  WindGustDir  WindGustSpeed WindDir9am  ... Humidity3pm  Pressure9am  \\\n",
       "0           W           44.0          W  ...          22       1007.7   \n",
       "1         WNW           44.0        NNW  ...          25       1010.6   \n",
       "2         WSW           46.0          W  ...          30       1007.6   \n",
       "3          NE           24.0         SE  ...          16       1017.6   \n",
       "4           W           41.0        ENE  ...          33       1010.8   \n",
       "\n",
       "   Pressure3pm Cloud9am Cloud3pm  Temp9am  Temp3pm RainToday RISK_MM  \\\n",
       "0       1007.1        8      NaN     16.9     21.8        No     0.0   \n",
       "1       1007.8      NaN      NaN     17.2     24.3        No     0.0   \n",
       "2       1008.7      NaN        2     21.0     23.2        No     0.0   \n",
       "3       1012.8      NaN      NaN     18.1     26.5        No     1.0   \n",
       "4       1006.0        7        8     17.8     29.7        No     0.2   \n",
       "\n",
       "   RainTomorrow  \n",
       "0            No  \n",
       "1            No  \n",
       "2            No  \n",
       "3            No  \n",
       "4            No  \n",
       "\n",
       "[5 rows x 24 columns]"
      ]
     },
     "execution_count": 4,
     "metadata": {},
     "output_type": "execute_result"
    }
   ],
   "source": [
    "df = pd.DataFrame(result['weatherAUS'])\n",
    "df.head()"
   ]
  },
  {
   "cell_type": "code",
   "execution_count": 5,
   "id": "edcf7141",
   "metadata": {},
   "outputs": [
    {
     "data": {
      "text/plain": [
       "(226868, 24)"
      ]
     },
     "execution_count": 5,
     "metadata": {},
     "output_type": "execute_result"
    }
   ],
   "source": [
    "df.shape"
   ]
  },
  {
   "cell_type": "code",
   "execution_count": 6,
   "id": "c69f7913",
   "metadata": {},
   "outputs": [],
   "source": [
    "df.drop_duplicates(inplace=True)"
   ]
  },
  {
   "cell_type": "code",
   "execution_count": 7,
   "id": "e482b4ca",
   "metadata": {},
   "outputs": [
    {
     "data": {
      "text/plain": [
       "Date             False\n",
       "Location         False\n",
       "MinTemp           True\n",
       "MaxTemp           True\n",
       "Rainfall          True\n",
       "Evaporation       True\n",
       "Sunshine          True\n",
       "WindGustDir       True\n",
       "WindGustSpeed     True\n",
       "WindDir9am        True\n",
       "WindDir3pm        True\n",
       "WindSpeed9am      True\n",
       "WindSpeed3pm      True\n",
       "Humidity9am       True\n",
       "Humidity3pm       True\n",
       "Pressure9am       True\n",
       "Pressure3pm       True\n",
       "Cloud9am          True\n",
       "Cloud3pm          True\n",
       "Temp9am           True\n",
       "Temp3pm           True\n",
       "RainToday         True\n",
       "RISK_MM           True\n",
       "RainTomorrow      True\n",
       "dtype: bool"
      ]
     },
     "execution_count": 7,
     "metadata": {},
     "output_type": "execute_result"
    }
   ],
   "source": [
    "df.isnull().any()"
   ]
  },
  {
   "cell_type": "code",
   "execution_count": 8,
   "id": "f4113a79",
   "metadata": {},
   "outputs": [
    {
     "name": "stdout",
     "output_type": "stream",
     "text": [
      "<class 'pandas.core.frame.DataFrame'>\n",
      "Int64Index: 226868 entries, 0 to 226867\n",
      "Data columns (total 24 columns):\n",
      " #   Column         Non-Null Count   Dtype   \n",
      "---  ------         --------------   -----   \n",
      " 0   Date           226868 non-null  object  \n",
      " 1   Location       226868 non-null  object  \n",
      " 2   MinTemp        223068 non-null  float64 \n",
      " 3   MaxTemp        223238 non-null  float64 \n",
      " 4   Rainfall       220093 non-null  float64 \n",
      " 5   Evaporation    103612 non-null  float64 \n",
      " 6   Sunshine       94231 non-null   float64 \n",
      " 7   WindGustDir    209959 non-null  category\n",
      " 8   WindGustSpeed  210068 non-null  float64 \n",
      " 9   WindDir9am     209309 non-null  category\n",
      " 10  WindDir3pm     217154 non-null  category\n",
      " 11  WindSpeed9am   222435 non-null  float64 \n",
      " 12  WindSpeed3pm   218678 non-null  float64 \n",
      " 13  Humidity9am    221584 non-null  object  \n",
      " 14  Humidity3pm    217333 non-null  object  \n",
      " 15  Pressure9am    201792 non-null  float64 \n",
      " 16  Pressure3pm    201813 non-null  float64 \n",
      " 17  Cloud9am       127751 non-null  object  \n",
      " 18  Cloud3pm       122061 non-null  object  \n",
      " 19  Temp9am        223001 non-null  float64 \n",
      " 20  Temp3pm        218657 non-null  float64 \n",
      " 21  RainToday      220093 non-null  category\n",
      " 22  RISK_MM        220094 non-null  float64 \n",
      " 23  RainTomorrow   220094 non-null  category\n",
      "dtypes: category(5), float64(13), object(6)\n",
      "memory usage: 35.7+ MB\n"
     ]
    }
   ],
   "source": [
    "df.info()"
   ]
  },
  {
   "cell_type": "markdown",
   "id": "fe4c39b7",
   "metadata": {},
   "source": [
    "As we can see we have so many null values in our dataset"
   ]
  },
  {
   "cell_type": "code",
   "execution_count": 9,
   "id": "d43eb2ea",
   "metadata": {},
   "outputs": [
    {
     "name": "stderr",
     "output_type": "stream",
     "text": [
      "C:\\Users\\Welcome\\anaconda3\\lib\\site-packages\\seaborn\\_decorators.py:36: FutureWarning: Pass the following variable as a keyword arg: x. From version 0.12, the only valid positional argument will be `data`, and passing other arguments without an explicit keyword will result in an error or misinterpretation.\n",
      "  warnings.warn(\n"
     ]
    },
    {
     "data": {
      "text/plain": [
       "<AxesSubplot:xlabel='RainTomorrow', ylabel='count'>"
      ]
     },
     "execution_count": 9,
     "metadata": {},
     "output_type": "execute_result"
    },
    {
     "data": {
      "image/png": "[encoded data removed]",
      "text/plain": [
       "<Figure size 640x480 with 1 Axes>"
      ]
     },
     "metadata": {},
     "output_type": "display_data"
    }
   ],
   "source": [
    "sns.countplot(df['RainTomorrow'])"
   ]
  },
  {
   "cell_type": "code",
   "execution_count": 10,
   "id": "45b0eace",
   "metadata": {},
   "outputs": [
    {
     "name": "stderr",
     "output_type": "stream",
     "text": [
      "C:\\Users\\Welcome\\anaconda3\\lib\\site-packages\\seaborn\\_decorators.py:36: FutureWarning: Pass the following variable as a keyword arg: x. From version 0.12, the only valid positional argument will be `data`, and passing other arguments without an explicit keyword will result in an error or misinterpretation.\n",
      "  warnings.warn(\n"
     ]
    },
    {
     "data": {
      "text/plain": [
       "<AxesSubplot:xlabel='RainToday', ylabel='count'>"
      ]
     },
     "execution_count": 10,
     "metadata": {},
     "output_type": "execute_result"
    },
    {
     "data": {
      "image/png": "[encoded data removed]",
      "text/plain": [
       "<Figure size 640x480 with 1 Axes>"
      ]
     },
     "metadata": {},
     "output_type": "display_data"
    }
   ],
   "source": [
    "sns.countplot(df['RainToday'])"
   ]
  },
  {
   "cell_type": "code",
   "execution_count": 11,
   "id": "8bf4fd91",
   "metadata": {},
   "outputs": [
    {
     "data": {
      "text/html": [
       "<div>\n",
       "<style scoped>\n",
       "    .dataframe tbody tr th:only-of-type {\n",
       "        vertical-align: middle;\n",
       "    }\n",
       "\n",
       "    .dataframe tbody tr th {\n",
       "        vertical-align: top;\n",
       "    }\n",
       "\n",
       "    .dataframe thead th {\n",
       "        text-align: right;\n",
       "    }\n",
       "</style>\n",
       "<table border=\"1\" class=\"dataframe\">\n",
       "  <thead>\n",
       "    <tr style=\"text-align: right;\">\n",
       "      <th></th>\n",
       "      <th>MinTemp</th>\n",
       "      <th>MaxTemp</th>\n",
       "      <th>Rainfall</th>\n",
       "      <th>Evaporation</th>\n",
       "      <th>Sunshine</th>\n",
       "    </tr>\n",
       "  </thead>\n",
       "  <tbody>\n",
       "    <tr>\n",
       "      <th>count</th>\n",
       "      <td>223068.000000</td>\n",
       "      <td>223238.000000</td>\n",
       "      <td>220093.000000</td>\n",
       "      <td>103612.000000</td>\n",
       "      <td>94231.000000</td>\n",
       "    </tr>\n",
       "    <tr>\n",
       "      <th>mean</th>\n",
       "      <td>12.093779</td>\n",
       "      <td>23.214681</td>\n",
       "      <td>2.348355</td>\n",
       "      <td>5.507538</td>\n",
       "      <td>7.630908</td>\n",
       "    </tr>\n",
       "    <tr>\n",
       "      <th>std</th>\n",
       "      <td>6.419513</td>\n",
       "      <td>7.128250</td>\n",
       "      <td>8.542417</td>\n",
       "      <td>4.212445</td>\n",
       "      <td>3.778866</td>\n",
       "    </tr>\n",
       "    <tr>\n",
       "      <th>min</th>\n",
       "      <td>-8.700000</td>\n",
       "      <td>-4.100000</td>\n",
       "      <td>0.000000</td>\n",
       "      <td>0.000000</td>\n",
       "      <td>0.000000</td>\n",
       "    </tr>\n",
       "    <tr>\n",
       "      <th>25%</th>\n",
       "      <td>7.500000</td>\n",
       "      <td>17.900000</td>\n",
       "      <td>0.000000</td>\n",
       "      <td>2.600000</td>\n",
       "      <td>4.900000</td>\n",
       "    </tr>\n",
       "    <tr>\n",
       "      <th>50%</th>\n",
       "      <td>11.900000</td>\n",
       "      <td>22.600000</td>\n",
       "      <td>0.000000</td>\n",
       "      <td>4.800000</td>\n",
       "      <td>8.500000</td>\n",
       "    </tr>\n",
       "    <tr>\n",
       "      <th>75%</th>\n",
       "      <td>16.800000</td>\n",
       "      <td>28.200000</td>\n",
       "      <td>0.600000</td>\n",
       "      <td>7.400000</td>\n",
       "      <td>10.600000</td>\n",
       "    </tr>\n",
       "    <tr>\n",
       "      <th>max</th>\n",
       "      <td>33.900000</td>\n",
       "      <td>48.900000</td>\n",
       "      <td>474.000000</td>\n",
       "      <td>138.700000</td>\n",
       "      <td>14.500000</td>\n",
       "    </tr>\n",
       "  </tbody>\n",
       "</table>\n",
       "</div>"
      ],
      "text/plain": [
       "             MinTemp        MaxTemp       Rainfall    Evaporation  \\\n",
       "count  223068.000000  223238.000000  220093.000000  103612.000000   \n",
       "mean       12.093779      23.214681       2.348355       5.507538   \n",
       "std         6.419513       7.128250       8.542417       4.212445   \n",
       "min        -8.700000      -4.100000       0.000000       0.000000   \n",
       "25%         7.500000      17.900000       0.000000       2.600000   \n",
       "50%        11.900000      22.600000       0.000000       4.800000   \n",
       "75%        16.800000      28.200000       0.600000       7.400000   \n",
       "max        33.900000      48.900000     474.000000     138.700000   \n",
       "\n",
       "           Sunshine  \n",
       "count  94231.000000  \n",
       "mean       7.630908  \n",
       "std        3.778866  \n",
       "min        0.000000  \n",
       "25%        4.900000  \n",
       "50%        8.500000  \n",
       "75%       10.600000  \n",
       "max       14.500000  "
      ]
     },
     "execution_count": 11,
     "metadata": {},
     "output_type": "execute_result"
    }
   ],
   "source": [
    "df[['MinTemp','MaxTemp','Rainfall','Evaporation','Sunshine']].describe()"
   ]
  },
  {
   "cell_type": "code",
   "execution_count": 12,
   "id": "4038fe25",
   "metadata": {},
   "outputs": [],
   "source": [
    "mean_max = df['MaxTemp'].mean()\n",
    "df['MaxTemp'].fillna(mean_max, inplace = True)\n",
    "\n",
    "mean_min = df['MinTemp'].mean()\n",
    "df['MinTemp'].fillna(mean_min, inplace = True)\n",
    "\n",
    "##for the rainfall variable we will assign 0 value assumping that there has been no rainfall##\n",
    "df['Rainfall'].fillna(value=0.0, inplace=True)"
   ]
  },
  {
   "cell_type": "code",
   "execution_count": 13,
   "id": "d23cd486",
   "metadata": {},
   "outputs": [
    {
     "data": {
      "text/plain": [
       "Date             False\n",
       "Location         False\n",
       "MinTemp          False\n",
       "MaxTemp          False\n",
       "Rainfall         False\n",
       "Evaporation       True\n",
       "Sunshine          True\n",
       "WindGustDir       True\n",
       "WindGustSpeed     True\n",
       "WindDir9am        True\n",
       "WindDir3pm        True\n",
       "WindSpeed9am      True\n",
       "WindSpeed3pm      True\n",
       "Humidity9am       True\n",
       "Humidity3pm       True\n",
       "Pressure9am       True\n",
       "Pressure3pm       True\n",
       "Cloud9am          True\n",
       "Cloud3pm          True\n",
       "Temp9am           True\n",
       "Temp3pm           True\n",
       "RainToday         True\n",
       "RISK_MM           True\n",
       "RainTomorrow      True\n",
       "dtype: bool"
      ]
     },
     "execution_count": 13,
     "metadata": {},
     "output_type": "execute_result"
    }
   ],
   "source": [
    "df.isnull().any()"
   ]
  },
  {
   "cell_type": "code",
   "execution_count": 14,
   "id": "92bfe5d3",
   "metadata": {},
   "outputs": [
    {
     "name": "stderr",
     "output_type": "stream",
     "text": [
      "C:\\Users\\Welcome\\anaconda3\\lib\\site-packages\\seaborn\\distributions.py:2619: FutureWarning: `distplot` is a deprecated function and will be removed in a future version. Please adapt your code to use either `displot` (a figure-level function with similar flexibility) or `histplot` (an axes-level function for histograms).\n",
      "  warnings.warn(msg, FutureWarning)\n"
     ]
    },
    {
     "data": {
      "text/plain": [
       "<AxesSubplot:xlabel='MaxTemp', ylabel='Density'>"
      ]
     },
     "execution_count": 14,
     "metadata": {},
     "output_type": "execute_result"
    },
    {
     "data": {
      "image/png": "[encoded data removed]",
      "text/plain": [
       "<Figure size 640x480 with 1 Axes>"
      ]
     },
     "metadata": {},
     "output_type": "display_data"
    }
   ],
   "source": [
    "sns.distplot(df['MaxTemp'])"
   ]
  },
  {
   "cell_type": "code",
   "execution_count": 15,
   "id": "aa9d0420",
   "metadata": {},
   "outputs": [
    {
     "name": "stderr",
     "output_type": "stream",
     "text": [
      "C:\\Users\\Welcome\\anaconda3\\lib\\site-packages\\seaborn\\distributions.py:2619: FutureWarning: `distplot` is a deprecated function and will be removed in a future version. Please adapt your code to use either `displot` (a figure-level function with similar flexibility) or `histplot` (an axes-level function for histograms).\n",
      "  warnings.warn(msg, FutureWarning)\n"
     ]
    },
    {
     "data": {
      "text/plain": [
       "<AxesSubplot:xlabel='MinTemp', ylabel='Density'>"
      ]
     },
     "execution_count": 15,
     "metadata": {},
     "output_type": "execute_result"
    },
    {
     "data": {
      "image/png": "[encoded data removed]",
      "text/plain": [
       "<Figure size 640x480 with 1 Axes>"
      ]
     },
     "metadata": {},
     "output_type": "display_data"
    }
   ],
   "source": [
    "sns.distplot(df['MinTemp'])"
   ]
  },
  {
   "cell_type": "code",
   "execution_count": 16,
   "id": "34476e7d",
   "metadata": {},
   "outputs": [
    {
     "name": "stderr",
     "output_type": "stream",
     "text": [
      "C:\\Users\\Welcome\\anaconda3\\lib\\site-packages\\seaborn\\distributions.py:2619: FutureWarning: `distplot` is a deprecated function and will be removed in a future version. Please adapt your code to use either `displot` (a figure-level function with similar flexibility) or `histplot` (an axes-level function for histograms).\n",
      "  warnings.warn(msg, FutureWarning)\n"
     ]
    },
    {
     "data": {
      "text/plain": [
       "<AxesSubplot:xlabel='Rainfall', ylabel='Density'>"
      ]
     },
     "execution_count": 16,
     "metadata": {},
     "output_type": "execute_result"
    },
    {
     "data": {
      "image/png": "[encoded data removed]",
      "text/plain": [
       "<Figure size 640x480 with 1 Axes>"
      ]
     },
     "metadata": {},
     "output_type": "display_data"
    }
   ],
   "source": [
    "sns.distplot(df['Rainfall'])"
   ]
  },
  {
   "cell_type": "code",
   "execution_count": 17,
   "id": "744a82dc",
   "metadata": {},
   "outputs": [
    {
     "name": "stderr",
     "output_type": "stream",
     "text": [
      "C:\\Users\\Welcome\\anaconda3\\lib\\site-packages\\seaborn\\_decorators.py:36: FutureWarning: Pass the following variable as a keyword arg: x. From version 0.12, the only valid positional argument will be `data`, and passing other arguments without an explicit keyword will result in an error or misinterpretation.\n",
      "  warnings.warn(\n"
     ]
    },
    {
     "data": {
      "text/plain": [
       "<AxesSubplot:xlabel='WindGustDir', ylabel='count'>"
      ]
     },
     "execution_count": 17,
     "metadata": {},
     "output_type": "execute_result"
    },
    {
     "data": {
      "image/png": "[encoded data removed]",
      "text/plain": [
       "<Figure size 640x480 with 1 Axes>"
      ]
     },
     "metadata": {},
     "output_type": "display_data"
    }
   ],
   "source": [
    "sns.countplot(df['WindGustDir'])"
   ]
  },
  {
   "cell_type": "code",
   "execution_count": 18,
   "id": "6ccc560e",
   "metadata": {},
   "outputs": [],
   "source": [
    "mean_WGS = df['WindGustSpeed'].mean()\n",
    "df['WindGustSpeed'].fillna(mean_WGS, inplace = True)\n",
    "\n",
    "mean_ws9 =df['WindSpeed9am'].mean()\n",
    "df['WindSpeed9am'].fillna(mean_ws9, inplace=True)\n",
    "\n",
    "mean_ws3 =df['WindSpeed3pm'].mean()\n",
    "df['WindSpeed3pm'].fillna(mean_ws3, inplace=True)\n",
    "\n",
    "mean_hu9 =df['Humidity9am'].mean()\n",
    "df['Humidity9am'].fillna(mean_hu9, inplace=True)\n",
    "\n",
    "mean_hu3 =df['Humidity3pm'].mean()\n",
    "df['Humidity3pm'].fillna(mean_hu3, inplace=True)\n",
    "\n",
    "mean_ps9 =df['Pressure9am'].mean()\n",
    "df['Pressure9am'].fillna(mean_ps9, inplace=True)\n",
    "\n",
    "mean_ps3 =df['Pressure3pm'].mean()\n",
    "df['Pressure3pm'].fillna(mean_ps3, inplace=True)\n",
    "\n",
    "mean_cl9 =df['Cloud9am'].mean()\n",
    "df['Cloud9am'].fillna(mean_cl9, inplace=True)\n",
    "\n",
    "mean_cl3 =df['Cloud3pm'].mean()\n",
    "df['Cloud3pm'].fillna(mean_cl9, inplace=True)\n",
    "\n",
    "mean_tp9 =df['Temp9am'].mean()\n",
    "df['Temp9am'].fillna(mean_tp9, inplace=True)\n",
    "\n",
    "mean_tp3 =df['Temp3pm'].mean()\n",
    "df['Temp3pm'].fillna(mean_tp3, inplace=True)"
   ]
  },
  {
   "cell_type": "code",
   "execution_count": 19,
   "id": "52b6da3a",
   "metadata": {},
   "outputs": [
    {
     "data": {
      "text/plain": [
       "Date             False\n",
       "Location         False\n",
       "MinTemp          False\n",
       "MaxTemp          False\n",
       "Rainfall         False\n",
       "Evaporation       True\n",
       "Sunshine          True\n",
       "WindGustDir       True\n",
       "WindGustSpeed    False\n",
       "WindDir9am        True\n",
       "WindDir3pm        True\n",
       "WindSpeed9am     False\n",
       "WindSpeed3pm     False\n",
       "Humidity9am      False\n",
       "Humidity3pm      False\n",
       "Pressure9am      False\n",
       "Pressure3pm      False\n",
       "Cloud9am         False\n",
       "Cloud3pm         False\n",
       "Temp9am          False\n",
       "Temp3pm          False\n",
       "RainToday         True\n",
       "RISK_MM           True\n",
       "RainTomorrow      True\n",
       "dtype: bool"
      ]
     },
     "execution_count": 19,
     "metadata": {},
     "output_type": "execute_result"
    }
   ],
   "source": [
    "df.drop_duplicates(inplace=True)\n",
    "df.isnull().any()"
   ]
  },
  {
   "cell_type": "code",
   "execution_count": 20,
   "id": "edb8654e",
   "metadata": {},
   "outputs": [],
   "source": [
    "m_f_v = df['RainToday'].mode()[0]"
   ]
  },
  {
   "cell_type": "code",
   "execution_count": 21,
   "id": "3274a49d",
   "metadata": {},
   "outputs": [
    {
     "data": {
      "text/plain": [
       "'No'"
      ]
     },
     "execution_count": 21,
     "metadata": {},
     "output_type": "execute_result"
    }
   ],
   "source": [
    "m_f_v"
   ]
  },
  {
   "cell_type": "code",
   "execution_count": 22,
   "id": "b2735dff",
   "metadata": {},
   "outputs": [],
   "source": [
    "df['RainToday'].fillna(m_f_v, inplace=True)"
   ]
  },
  {
   "cell_type": "code",
   "execution_count": 23,
   "id": "0ec746a4",
   "metadata": {},
   "outputs": [],
   "source": [
    "m_f_r = df['RainTomorrow'].mode()[0]\n",
    "df['RainTomorrow'].fillna(m_f_r, inplace=True)"
   ]
  },
  {
   "cell_type": "code",
   "execution_count": 24,
   "id": "c7dd6ffd",
   "metadata": {},
   "outputs": [
    {
     "data": {
      "text/plain": [
       "Date             False\n",
       "Location         False\n",
       "MinTemp          False\n",
       "MaxTemp          False\n",
       "Rainfall         False\n",
       "Evaporation       True\n",
       "Sunshine          True\n",
       "WindGustDir       True\n",
       "WindGustSpeed    False\n",
       "WindDir9am        True\n",
       "WindDir3pm        True\n",
       "WindSpeed9am     False\n",
       "WindSpeed3pm     False\n",
       "Humidity9am      False\n",
       "Humidity3pm      False\n",
       "Pressure9am      False\n",
       "Pressure3pm      False\n",
       "Cloud9am         False\n",
       "Cloud3pm         False\n",
       "Temp9am          False\n",
       "Temp3pm          False\n",
       "RainToday        False\n",
       "RISK_MM           True\n",
       "RainTomorrow     False\n",
       "dtype: bool"
      ]
     },
     "execution_count": 24,
     "metadata": {},
     "output_type": "execute_result"
    }
   ],
   "source": [
    "df.isnull().any()"
   ]
  },
  {
   "cell_type": "code",
   "execution_count": 25,
   "id": "681570de",
   "metadata": {},
   "outputs": [
    {
     "name": "stderr",
     "output_type": "stream",
     "text": [
      "C:\\Users\\Welcome\\anaconda3\\lib\\site-packages\\seaborn\\_decorators.py:36: FutureWarning: Pass the following variable as a keyword arg: x. From version 0.12, the only valid positional argument will be `data`, and passing other arguments without an explicit keyword will result in an error or misinterpretation.\n",
      "  warnings.warn(\n"
     ]
    },
    {
     "data": {
      "text/plain": [
       "<AxesSubplot:xlabel='Evaporation'>"
      ]
     },
     "execution_count": 25,
     "metadata": {},
     "output_type": "execute_result"
    },
    {
     "data": {
      "image/png": "[encoded data removed]",
      "text/plain": [
       "<Figure size 640x480 with 1 Axes>"
      ]
     },
     "metadata": {},
     "output_type": "display_data"
    }
   ],
   "source": [
    "sns.boxplot(df['Evaporation'])"
   ]
  },
  {
   "cell_type": "code",
   "execution_count": 26,
   "id": "03c548bb",
   "metadata": {},
   "outputs": [
    {
     "data": {
      "text/html": [
       "<div>\n",
       "<style scoped>\n",
       "    .dataframe tbody tr th:only-of-type {\n",
       "        vertical-align: middle;\n",
       "    }\n",
       "\n",
       "    .dataframe tbody tr th {\n",
       "        vertical-align: top;\n",
       "    }\n",
       "\n",
       "    .dataframe thead th {\n",
       "        text-align: right;\n",
       "    }\n",
       "</style>\n",
       "<table border=\"1\" class=\"dataframe\">\n",
       "  <thead>\n",
       "    <tr style=\"text-align: right;\">\n",
       "      <th></th>\n",
       "      <th>Evaporation</th>\n",
       "      <th>Sunshine</th>\n",
       "    </tr>\n",
       "  </thead>\n",
       "  <tbody>\n",
       "    <tr>\n",
       "      <th>count</th>\n",
       "      <td>103612.000000</td>\n",
       "      <td>94231.000000</td>\n",
       "    </tr>\n",
       "    <tr>\n",
       "      <th>mean</th>\n",
       "      <td>5.507538</td>\n",
       "      <td>7.630908</td>\n",
       "    </tr>\n",
       "    <tr>\n",
       "      <th>std</th>\n",
       "      <td>4.212445</td>\n",
       "      <td>3.778866</td>\n",
       "    </tr>\n",
       "    <tr>\n",
       "      <th>min</th>\n",
       "      <td>0.000000</td>\n",
       "      <td>0.000000</td>\n",
       "    </tr>\n",
       "    <tr>\n",
       "      <th>25%</th>\n",
       "      <td>2.600000</td>\n",
       "      <td>4.900000</td>\n",
       "    </tr>\n",
       "    <tr>\n",
       "      <th>50%</th>\n",
       "      <td>4.800000</td>\n",
       "      <td>8.500000</td>\n",
       "    </tr>\n",
       "    <tr>\n",
       "      <th>75%</th>\n",
       "      <td>7.400000</td>\n",
       "      <td>10.600000</td>\n",
       "    </tr>\n",
       "    <tr>\n",
       "      <th>max</th>\n",
       "      <td>138.700000</td>\n",
       "      <td>14.500000</td>\n",
       "    </tr>\n",
       "  </tbody>\n",
       "</table>\n",
       "</div>"
      ],
      "text/plain": [
       "         Evaporation      Sunshine\n",
       "count  103612.000000  94231.000000\n",
       "mean        5.507538      7.630908\n",
       "std         4.212445      3.778866\n",
       "min         0.000000      0.000000\n",
       "25%         2.600000      4.900000\n",
       "50%         4.800000      8.500000\n",
       "75%         7.400000     10.600000\n",
       "max       138.700000     14.500000"
      ]
     },
     "execution_count": 26,
     "metadata": {},
     "output_type": "execute_result"
    }
   ],
   "source": [
    "mean_evp = df[['Evaporation','Sunshine']].describe()\n",
    "mean_evp"
   ]
  },
  {
   "cell_type": "code",
   "execution_count": 27,
   "id": "2b60fb40",
   "metadata": {},
   "outputs": [],
   "source": [
    "mean_ep = df['Evaporation'].mean()\n",
    "df['Evaporation'].fillna(mean_ep, inplace=True)\n",
    "\n",
    "mean_si =df['Sunshine'].mean()\n",
    "df['Sunshine'].fillna(mean_si, inplace=True)\n",
    "\n",
    "m_f_w = df['WindGustDir'].mode()[0]\n",
    "df['WindGustDir'].fillna(m_f_w, inplace=True)\n",
    "\n",
    "m_f_wd9 = df['WindDir9am'].mode()[0]\n",
    "df['WindDir9am'].fillna(m_f_w, inplace=True)\n",
    "\n",
    "m_f_wd3 = df['WindDir3pm'].mode()[0]\n",
    "df['WindDir3pm'].fillna(m_f_w, inplace=True)"
   ]
  },
  {
   "cell_type": "code",
   "execution_count": 28,
   "id": "f5e0017d",
   "metadata": {},
   "outputs": [
    {
     "data": {
      "text/plain": [
       "count    220094.000000\n",
       "mean          2.348583\n",
       "std           8.542516\n",
       "min           0.000000\n",
       "25%           0.000000\n",
       "50%           0.000000\n",
       "75%           0.600000\n",
       "max         474.000000\n",
       "Name: RISK_MM, dtype: float64"
      ]
     },
     "execution_count": 28,
     "metadata": {},
     "output_type": "execute_result"
    }
   ],
   "source": [
    "risk_mm = df['RISK_MM'].describe()\n",
    "risk_mm"
   ]
  },
  {
   "cell_type": "code",
   "execution_count": 29,
   "id": "e40b6028",
   "metadata": {},
   "outputs": [],
   "source": [
    "mean_rk = df['RISK_MM'].mean()\n",
    "df['RISK_MM'].fillna(mean_rk, inplace=True)"
   ]
  },
  {
   "cell_type": "code",
   "execution_count": 30,
   "id": "0f9b87ef",
   "metadata": {},
   "outputs": [
    {
     "data": {
      "text/plain": [
       "Date             False\n",
       "Location         False\n",
       "MinTemp          False\n",
       "MaxTemp          False\n",
       "Rainfall         False\n",
       "Evaporation      False\n",
       "Sunshine         False\n",
       "WindGustDir      False\n",
       "WindGustSpeed    False\n",
       "WindDir9am       False\n",
       "WindDir3pm       False\n",
       "WindSpeed9am     False\n",
       "WindSpeed3pm     False\n",
       "Humidity9am      False\n",
       "Humidity3pm      False\n",
       "Pressure9am      False\n",
       "Pressure3pm      False\n",
       "Cloud9am         False\n",
       "Cloud3pm         False\n",
       "Temp9am          False\n",
       "Temp3pm          False\n",
       "RainToday        False\n",
       "RISK_MM          False\n",
       "RainTomorrow     False\n",
       "dtype: bool"
      ]
     },
     "execution_count": 30,
     "metadata": {},
     "output_type": "execute_result"
    }
   ],
   "source": [
    "df.isnull().any()"
   ]
  },
  {
   "cell_type": "code",
   "execution_count": 31,
   "id": "c9f4d95b",
   "metadata": {},
   "outputs": [
    {
     "data": {
      "text/html": [
       "<div>\n",
       "<style scoped>\n",
       "    .dataframe tbody tr th:only-of-type {\n",
       "        vertical-align: middle;\n",
       "    }\n",
       "\n",
       "    .dataframe tbody tr th {\n",
       "        vertical-align: top;\n",
       "    }\n",
       "\n",
       "    .dataframe thead th {\n",
       "        text-align: right;\n",
       "    }\n",
       "</style>\n",
       "<table border=\"1\" class=\"dataframe\">\n",
       "  <thead>\n",
       "    <tr style=\"text-align: right;\">\n",
       "      <th></th>\n",
       "      <th>Date</th>\n",
       "      <th>Location</th>\n",
       "      <th>MinTemp</th>\n",
       "      <th>MaxTemp</th>\n",
       "      <th>Rainfall</th>\n",
       "      <th>Evaporation</th>\n",
       "      <th>Sunshine</th>\n",
       "      <th>WindGustDir</th>\n",
       "      <th>WindGustSpeed</th>\n",
       "      <th>WindDir9am</th>\n",
       "      <th>...</th>\n",
       "      <th>Humidity3pm</th>\n",
       "      <th>Pressure9am</th>\n",
       "      <th>Pressure3pm</th>\n",
       "      <th>Cloud9am</th>\n",
       "      <th>Cloud3pm</th>\n",
       "      <th>Temp9am</th>\n",
       "      <th>Temp3pm</th>\n",
       "      <th>RainToday</th>\n",
       "      <th>RISK_MM</th>\n",
       "      <th>RainTomorrow</th>\n",
       "    </tr>\n",
       "  </thead>\n",
       "  <tbody>\n",
       "    <tr>\n",
       "      <th>0</th>\n",
       "      <td>2008-12-01</td>\n",
       "      <td>Albury</td>\n",
       "      <td>13.4</td>\n",
       "      <td>22.9</td>\n",
       "      <td>0.6</td>\n",
       "      <td>5.507538</td>\n",
       "      <td>7.630908</td>\n",
       "      <td>W</td>\n",
       "      <td>44.0</td>\n",
       "      <td>W</td>\n",
       "      <td>...</td>\n",
       "      <td>22.0</td>\n",
       "      <td>1007.7</td>\n",
       "      <td>1007.1</td>\n",
       "      <td>8.000000</td>\n",
       "      <td>4.683149</td>\n",
       "      <td>16.9</td>\n",
       "      <td>21.8</td>\n",
       "      <td>No</td>\n",
       "      <td>0.0</td>\n",
       "      <td>No</td>\n",
       "    </tr>\n",
       "    <tr>\n",
       "      <th>1</th>\n",
       "      <td>2008-12-02</td>\n",
       "      <td>Albury</td>\n",
       "      <td>7.4</td>\n",
       "      <td>25.1</td>\n",
       "      <td>0.0</td>\n",
       "      <td>5.507538</td>\n",
       "      <td>7.630908</td>\n",
       "      <td>WNW</td>\n",
       "      <td>44.0</td>\n",
       "      <td>NNW</td>\n",
       "      <td>...</td>\n",
       "      <td>25.0</td>\n",
       "      <td>1010.6</td>\n",
       "      <td>1007.8</td>\n",
       "      <td>4.683149</td>\n",
       "      <td>4.683149</td>\n",
       "      <td>17.2</td>\n",
       "      <td>24.3</td>\n",
       "      <td>No</td>\n",
       "      <td>0.0</td>\n",
       "      <td>No</td>\n",
       "    </tr>\n",
       "    <tr>\n",
       "      <th>2</th>\n",
       "      <td>2008-12-03</td>\n",
       "      <td>Albury</td>\n",
       "      <td>12.9</td>\n",
       "      <td>25.7</td>\n",
       "      <td>0.0</td>\n",
       "      <td>5.507538</td>\n",
       "      <td>7.630908</td>\n",
       "      <td>WSW</td>\n",
       "      <td>46.0</td>\n",
       "      <td>W</td>\n",
       "      <td>...</td>\n",
       "      <td>30.0</td>\n",
       "      <td>1007.6</td>\n",
       "      <td>1008.7</td>\n",
       "      <td>4.683149</td>\n",
       "      <td>2.000000</td>\n",
       "      <td>21.0</td>\n",
       "      <td>23.2</td>\n",
       "      <td>No</td>\n",
       "      <td>0.0</td>\n",
       "      <td>No</td>\n",
       "    </tr>\n",
       "    <tr>\n",
       "      <th>3</th>\n",
       "      <td>2008-12-04</td>\n",
       "      <td>Albury</td>\n",
       "      <td>9.2</td>\n",
       "      <td>28.0</td>\n",
       "      <td>0.0</td>\n",
       "      <td>5.507538</td>\n",
       "      <td>7.630908</td>\n",
       "      <td>NE</td>\n",
       "      <td>24.0</td>\n",
       "      <td>SE</td>\n",
       "      <td>...</td>\n",
       "      <td>16.0</td>\n",
       "      <td>1017.6</td>\n",
       "      <td>1012.8</td>\n",
       "      <td>4.683149</td>\n",
       "      <td>4.683149</td>\n",
       "      <td>18.1</td>\n",
       "      <td>26.5</td>\n",
       "      <td>No</td>\n",
       "      <td>1.0</td>\n",
       "      <td>No</td>\n",
       "    </tr>\n",
       "    <tr>\n",
       "      <th>4</th>\n",
       "      <td>2008-12-05</td>\n",
       "      <td>Albury</td>\n",
       "      <td>17.5</td>\n",
       "      <td>32.3</td>\n",
       "      <td>1.0</td>\n",
       "      <td>5.507538</td>\n",
       "      <td>7.630908</td>\n",
       "      <td>W</td>\n",
       "      <td>41.0</td>\n",
       "      <td>ENE</td>\n",
       "      <td>...</td>\n",
       "      <td>33.0</td>\n",
       "      <td>1010.8</td>\n",
       "      <td>1006.0</td>\n",
       "      <td>7.000000</td>\n",
       "      <td>8.000000</td>\n",
       "      <td>17.8</td>\n",
       "      <td>29.7</td>\n",
       "      <td>No</td>\n",
       "      <td>0.2</td>\n",
       "      <td>No</td>\n",
       "    </tr>\n",
       "  </tbody>\n",
       "</table>\n",
       "<p>5 rows × 24 columns</p>\n",
       "</div>"
      ],
      "text/plain": [
       "         Date Location  MinTemp  MaxTemp  Rainfall  Evaporation  Sunshine  \\\n",
       "0  2008-12-01   Albury     13.4     22.9       0.6     5.507538  7.630908   \n",
       "1  2008-12-02   Albury      7.4     25.1       0.0     5.507538  7.630908   \n",
       "2  2008-12-03   Albury     12.9     25.7       0.0     5.507538  7.630908   \n",
       "3  2008-12-04   Albury      9.2     28.0       0.0     5.507538  7.630908   \n",
       "4  2008-12-05   Albury     17.5     32.3       1.0     5.507538  7.630908   \n",
       "\n",
       "  WindGustDir  WindGustSpeed WindDir9am  ... Humidity3pm  Pressure9am  \\\n",
       "0           W           44.0          W  ...        22.0       1007.7   \n",
       "1         WNW           44.0        NNW  ...        25.0       1010.6   \n",
       "2         WSW           46.0          W  ...        30.0       1007.6   \n",
       "3          NE           24.0         SE  ...        16.0       1017.6   \n",
       "4           W           41.0        ENE  ...        33.0       1010.8   \n",
       "\n",
       "   Pressure3pm  Cloud9am  Cloud3pm  Temp9am  Temp3pm  RainToday  RISK_MM  \\\n",
       "0       1007.1  8.000000  4.683149     16.9     21.8         No      0.0   \n",
       "1       1007.8  4.683149  4.683149     17.2     24.3         No      0.0   \n",
       "2       1008.7  4.683149  2.000000     21.0     23.2         No      0.0   \n",
       "3       1012.8  4.683149  4.683149     18.1     26.5         No      1.0   \n",
       "4       1006.0  7.000000  8.000000     17.8     29.7         No      0.2   \n",
       "\n",
       "   RainTomorrow  \n",
       "0            No  \n",
       "1            No  \n",
       "2            No  \n",
       "3            No  \n",
       "4            No  \n",
       "\n",
       "[5 rows x 24 columns]"
      ]
     },
     "execution_count": 31,
     "metadata": {},
     "output_type": "execute_result"
    }
   ],
   "source": [
    "df.head()"
   ]
  },
  {
   "cell_type": "code",
   "execution_count": 32,
   "id": "f9a90043",
   "metadata": {},
   "outputs": [
    {
     "data": {
      "text/plain": [
       "(226868, 24)"
      ]
     },
     "execution_count": 32,
     "metadata": {},
     "output_type": "execute_result"
    }
   ],
   "source": [
    "df.shape"
   ]
  },
  {
   "cell_type": "code",
   "execution_count": 33,
   "id": "a38d058d",
   "metadata": {},
   "outputs": [
    {
     "data": {
      "text/plain": [
       "pandas.core.frame.DataFrame"
      ]
     },
     "execution_count": 33,
     "metadata": {},
     "output_type": "execute_result"
    }
   ],
   "source": [
    "type(df)"
   ]
  },
  {
   "cell_type": "code",
   "execution_count": 34,
   "id": "4cbf67ce",
   "metadata": {},
   "outputs": [],
   "source": [
    "df = df.drop(['Date', 'Location'], axis=1)"
   ]
  },
  {
   "cell_type": "code",
   "execution_count": 35,
   "id": "5e7501ba",
   "metadata": {},
   "outputs": [
    {
     "data": {
      "text/html": [
       "<div>\n",
       "<style scoped>\n",
       "    .dataframe tbody tr th:only-of-type {\n",
       "        vertical-align: middle;\n",
       "    }\n",
       "\n",
       "    .dataframe tbody tr th {\n",
       "        vertical-align: top;\n",
       "    }\n",
       "\n",
       "    .dataframe thead th {\n",
       "        text-align: right;\n",
       "    }\n",
       "</style>\n",
       "<table border=\"1\" class=\"dataframe\">\n",
       "  <thead>\n",
       "    <tr style=\"text-align: right;\">\n",
       "      <th></th>\n",
       "      <th>MinTemp</th>\n",
       "      <th>MaxTemp</th>\n",
       "      <th>Rainfall</th>\n",
       "      <th>Evaporation</th>\n",
       "      <th>Sunshine</th>\n",
       "      <th>WindGustDir</th>\n",
       "      <th>WindGustSpeed</th>\n",
       "      <th>WindDir9am</th>\n",
       "      <th>WindDir3pm</th>\n",
       "      <th>WindSpeed9am</th>\n",
       "      <th>...</th>\n",
       "      <th>Humidity3pm</th>\n",
       "      <th>Pressure9am</th>\n",
       "      <th>Pressure3pm</th>\n",
       "      <th>Cloud9am</th>\n",
       "      <th>Cloud3pm</th>\n",
       "      <th>Temp9am</th>\n",
       "      <th>Temp3pm</th>\n",
       "      <th>RainToday</th>\n",
       "      <th>RISK_MM</th>\n",
       "      <th>RainTomorrow</th>\n",
       "    </tr>\n",
       "  </thead>\n",
       "  <tbody>\n",
       "    <tr>\n",
       "      <th>0</th>\n",
       "      <td>13.4</td>\n",
       "      <td>22.9</td>\n",
       "      <td>0.6</td>\n",
       "      <td>5.507538</td>\n",
       "      <td>7.630908</td>\n",
       "      <td>W</td>\n",
       "      <td>44.0</td>\n",
       "      <td>W</td>\n",
       "      <td>WNW</td>\n",
       "      <td>20.0</td>\n",
       "      <td>...</td>\n",
       "      <td>22.0</td>\n",
       "      <td>1007.7</td>\n",
       "      <td>1007.1</td>\n",
       "      <td>8.000000</td>\n",
       "      <td>4.683149</td>\n",
       "      <td>16.9</td>\n",
       "      <td>21.8</td>\n",
       "      <td>No</td>\n",
       "      <td>0.0</td>\n",
       "      <td>No</td>\n",
       "    </tr>\n",
       "    <tr>\n",
       "      <th>1</th>\n",
       "      <td>7.4</td>\n",
       "      <td>25.1</td>\n",
       "      <td>0.0</td>\n",
       "      <td>5.507538</td>\n",
       "      <td>7.630908</td>\n",
       "      <td>WNW</td>\n",
       "      <td>44.0</td>\n",
       "      <td>NNW</td>\n",
       "      <td>WSW</td>\n",
       "      <td>4.0</td>\n",
       "      <td>...</td>\n",
       "      <td>25.0</td>\n",
       "      <td>1010.6</td>\n",
       "      <td>1007.8</td>\n",
       "      <td>4.683149</td>\n",
       "      <td>4.683149</td>\n",
       "      <td>17.2</td>\n",
       "      <td>24.3</td>\n",
       "      <td>No</td>\n",
       "      <td>0.0</td>\n",
       "      <td>No</td>\n",
       "    </tr>\n",
       "    <tr>\n",
       "      <th>2</th>\n",
       "      <td>12.9</td>\n",
       "      <td>25.7</td>\n",
       "      <td>0.0</td>\n",
       "      <td>5.507538</td>\n",
       "      <td>7.630908</td>\n",
       "      <td>WSW</td>\n",
       "      <td>46.0</td>\n",
       "      <td>W</td>\n",
       "      <td>WSW</td>\n",
       "      <td>19.0</td>\n",
       "      <td>...</td>\n",
       "      <td>30.0</td>\n",
       "      <td>1007.6</td>\n",
       "      <td>1008.7</td>\n",
       "      <td>4.683149</td>\n",
       "      <td>2.000000</td>\n",
       "      <td>21.0</td>\n",
       "      <td>23.2</td>\n",
       "      <td>No</td>\n",
       "      <td>0.0</td>\n",
       "      <td>No</td>\n",
       "    </tr>\n",
       "    <tr>\n",
       "      <th>3</th>\n",
       "      <td>9.2</td>\n",
       "      <td>28.0</td>\n",
       "      <td>0.0</td>\n",
       "      <td>5.507538</td>\n",
       "      <td>7.630908</td>\n",
       "      <td>NE</td>\n",
       "      <td>24.0</td>\n",
       "      <td>SE</td>\n",
       "      <td>E</td>\n",
       "      <td>11.0</td>\n",
       "      <td>...</td>\n",
       "      <td>16.0</td>\n",
       "      <td>1017.6</td>\n",
       "      <td>1012.8</td>\n",
       "      <td>4.683149</td>\n",
       "      <td>4.683149</td>\n",
       "      <td>18.1</td>\n",
       "      <td>26.5</td>\n",
       "      <td>No</td>\n",
       "      <td>1.0</td>\n",
       "      <td>No</td>\n",
       "    </tr>\n",
       "    <tr>\n",
       "      <th>4</th>\n",
       "      <td>17.5</td>\n",
       "      <td>32.3</td>\n",
       "      <td>1.0</td>\n",
       "      <td>5.507538</td>\n",
       "      <td>7.630908</td>\n",
       "      <td>W</td>\n",
       "      <td>41.0</td>\n",
       "      <td>ENE</td>\n",
       "      <td>NW</td>\n",
       "      <td>7.0</td>\n",
       "      <td>...</td>\n",
       "      <td>33.0</td>\n",
       "      <td>1010.8</td>\n",
       "      <td>1006.0</td>\n",
       "      <td>7.000000</td>\n",
       "      <td>8.000000</td>\n",
       "      <td>17.8</td>\n",
       "      <td>29.7</td>\n",
       "      <td>No</td>\n",
       "      <td>0.2</td>\n",
       "      <td>No</td>\n",
       "    </tr>\n",
       "  </tbody>\n",
       "</table>\n",
       "<p>5 rows × 22 columns</p>\n",
       "</div>"
      ],
      "text/plain": [
       "   MinTemp  MaxTemp  Rainfall  Evaporation  Sunshine WindGustDir  \\\n",
       "0     13.4     22.9       0.6     5.507538  7.630908           W   \n",
       "1      7.4     25.1       0.0     5.507538  7.630908         WNW   \n",
       "2     12.9     25.7       0.0     5.507538  7.630908         WSW   \n",
       "3      9.2     28.0       0.0     5.507538  7.630908          NE   \n",
       "4     17.5     32.3       1.0     5.507538  7.630908           W   \n",
       "\n",
       "   WindGustSpeed WindDir9am WindDir3pm  WindSpeed9am  ...  Humidity3pm  \\\n",
       "0           44.0          W        WNW          20.0  ...         22.0   \n",
       "1           44.0        NNW        WSW           4.0  ...         25.0   \n",
       "2           46.0          W        WSW          19.0  ...         30.0   \n",
       "3           24.0         SE          E          11.0  ...         16.0   \n",
       "4           41.0        ENE         NW           7.0  ...         33.0   \n",
       "\n",
       "   Pressure9am  Pressure3pm  Cloud9am  Cloud3pm  Temp9am  Temp3pm  RainToday  \\\n",
       "0       1007.7       1007.1  8.000000  4.683149     16.9     21.8         No   \n",
       "1       1010.6       1007.8  4.683149  4.683149     17.2     24.3         No   \n",
       "2       1007.6       1008.7  4.683149  2.000000     21.0     23.2         No   \n",
       "3       1017.6       1012.8  4.683149  4.683149     18.1     26.5         No   \n",
       "4       1010.8       1006.0  7.000000  8.000000     17.8     29.7         No   \n",
       "\n",
       "   RISK_MM RainTomorrow  \n",
       "0      0.0           No  \n",
       "1      0.0           No  \n",
       "2      0.0           No  \n",
       "3      1.0           No  \n",
       "4      0.2           No  \n",
       "\n",
       "[5 rows x 22 columns]"
      ]
     },
     "execution_count": 35,
     "metadata": {},
     "output_type": "execute_result"
    }
   ],
   "source": [
    "df.head()"
   ]
  },
  {
   "cell_type": "code",
   "execution_count": 36,
   "id": "1f1a6500",
   "metadata": {},
   "outputs": [
    {
     "name": "stdout",
     "output_type": "stream",
     "text": [
      "<class 'pandas.core.frame.DataFrame'>\n",
      "Int64Index: 226868 entries, 0 to 226867\n",
      "Data columns (total 22 columns):\n",
      " #   Column         Non-Null Count   Dtype   \n",
      "---  ------         --------------   -----   \n",
      " 0   MinTemp        226868 non-null  float64 \n",
      " 1   MaxTemp        226868 non-null  float64 \n",
      " 2   Rainfall       226868 non-null  float64 \n",
      " 3   Evaporation    226868 non-null  float64 \n",
      " 4   Sunshine       226868 non-null  float64 \n",
      " 5   WindGustDir    226868 non-null  category\n",
      " 6   WindGustSpeed  226868 non-null  float64 \n",
      " 7   WindDir9am     226868 non-null  category\n",
      " 8   WindDir3pm     226868 non-null  category\n",
      " 9   WindSpeed9am   226868 non-null  float64 \n",
      " 10  WindSpeed3pm   226868 non-null  float64 \n",
      " 11  Humidity9am    226868 non-null  float64 \n",
      " 12  Humidity3pm    226868 non-null  float64 \n",
      " 13  Pressure9am    226868 non-null  float64 \n",
      " 14  Pressure3pm    226868 non-null  float64 \n",
      " 15  Cloud9am       226868 non-null  float64 \n",
      " 16  Cloud3pm       226868 non-null  float64 \n",
      " 17  Temp9am        226868 non-null  float64 \n",
      " 18  Temp3pm        226868 non-null  float64 \n",
      " 19  RainToday      226868 non-null  category\n",
      " 20  RISK_MM        226868 non-null  float64 \n",
      " 21  RainTomorrow   226868 non-null  category\n",
      "dtypes: category(5), float64(17)\n",
      "memory usage: 32.2 MB\n"
     ]
    }
   ],
   "source": [
    "df.info()"
   ]
  },
  {
   "cell_type": "code",
   "execution_count": 37,
   "id": "97a002e7",
   "metadata": {},
   "outputs": [],
   "source": [
    "df=pd.get_dummies(data=df, columns=['WindGustDir','WindDir9am','WindDir3pm','RainToday',])"
   ]
  },
  {
   "cell_type": "code",
   "execution_count": 38,
   "id": "4beb4ea1",
   "metadata": {},
   "outputs": [],
   "source": [
    "df.replace(['No','Yes'],[0,1], inplace=True)"
   ]
  },
  {
   "cell_type": "code",
   "execution_count": 39,
   "id": "8bd2faa5",
   "metadata": {},
   "outputs": [],
   "source": [
    "df=df.astype(float)"
   ]
  },
  {
   "cell_type": "code",
   "execution_count": 40,
   "id": "008b0c5a",
   "metadata": {},
   "outputs": [
    {
     "data": {
      "text/html": [
       "<div>\n",
       "<style scoped>\n",
       "    .dataframe tbody tr th:only-of-type {\n",
       "        vertical-align: middle;\n",
       "    }\n",
       "\n",
       "    .dataframe tbody tr th {\n",
       "        vertical-align: top;\n",
       "    }\n",
       "\n",
       "    .dataframe thead th {\n",
       "        text-align: right;\n",
       "    }\n",
       "</style>\n",
       "<table border=\"1\" class=\"dataframe\">\n",
       "  <thead>\n",
       "    <tr style=\"text-align: right;\">\n",
       "      <th></th>\n",
       "      <th>MinTemp</th>\n",
       "      <th>MaxTemp</th>\n",
       "      <th>Rainfall</th>\n",
       "      <th>Evaporation</th>\n",
       "      <th>Sunshine</th>\n",
       "      <th>WindGustSpeed</th>\n",
       "      <th>WindSpeed9am</th>\n",
       "      <th>WindSpeed3pm</th>\n",
       "      <th>Humidity9am</th>\n",
       "      <th>Humidity3pm</th>\n",
       "      <th>...</th>\n",
       "      <th>WindDir3pm_S</th>\n",
       "      <th>WindDir3pm_SE</th>\n",
       "      <th>WindDir3pm_SSE</th>\n",
       "      <th>WindDir3pm_SSW</th>\n",
       "      <th>WindDir3pm_SW</th>\n",
       "      <th>WindDir3pm_W</th>\n",
       "      <th>WindDir3pm_WNW</th>\n",
       "      <th>WindDir3pm_WSW</th>\n",
       "      <th>RainToday_No</th>\n",
       "      <th>RainToday_Yes</th>\n",
       "    </tr>\n",
       "  </thead>\n",
       "  <tbody>\n",
       "    <tr>\n",
       "      <th>count</th>\n",
       "      <td>226868.000000</td>\n",
       "      <td>226868.000000</td>\n",
       "      <td>226868.000000</td>\n",
       "      <td>226868.000000</td>\n",
       "      <td>226868.000000</td>\n",
       "      <td>226868.000000</td>\n",
       "      <td>226868.000000</td>\n",
       "      <td>226868.000000</td>\n",
       "      <td>226868.000000</td>\n",
       "      <td>226868.000000</td>\n",
       "      <td>...</td>\n",
       "      <td>226868.000000</td>\n",
       "      <td>226868.000000</td>\n",
       "      <td>226868.000000</td>\n",
       "      <td>226868.000000</td>\n",
       "      <td>226868.000000</td>\n",
       "      <td>226868.000000</td>\n",
       "      <td>226868.000000</td>\n",
       "      <td>226868.000000</td>\n",
       "      <td>226868.000000</td>\n",
       "      <td>226868.000000</td>\n",
       "    </tr>\n",
       "    <tr>\n",
       "      <th>mean</th>\n",
       "      <td>12.093779</td>\n",
       "      <td>23.214681</td>\n",
       "      <td>2.278225</td>\n",
       "      <td>5.507538</td>\n",
       "      <td>7.630908</td>\n",
       "      <td>40.058005</td>\n",
       "      <td>14.063960</td>\n",
       "      <td>18.589584</td>\n",
       "      <td>68.939030</td>\n",
       "      <td>51.415096</td>\n",
       "      <td>...</td>\n",
       "      <td>0.066391</td>\n",
       "      <td>0.072315</td>\n",
       "      <td>0.062499</td>\n",
       "      <td>0.057183</td>\n",
       "      <td>0.062089</td>\n",
       "      <td>0.110924</td>\n",
       "      <td>0.060581</td>\n",
       "      <td>0.064875</td>\n",
       "      <td>0.784372</td>\n",
       "      <td>0.215628</td>\n",
       "    </tr>\n",
       "    <tr>\n",
       "      <th>std</th>\n",
       "      <td>6.365523</td>\n",
       "      <td>7.070992</td>\n",
       "      <td>8.423387</td>\n",
       "      <td>2.846764</td>\n",
       "      <td>2.435401</td>\n",
       "      <td>13.006794</td>\n",
       "      <td>8.780651</td>\n",
       "      <td>8.554661</td>\n",
       "      <td>19.224684</td>\n",
       "      <td>20.623182</td>\n",
       "      <td>...</td>\n",
       "      <td>0.248965</td>\n",
       "      <td>0.259010</td>\n",
       "      <td>0.242060</td>\n",
       "      <td>0.232193</td>\n",
       "      <td>0.241318</td>\n",
       "      <td>0.314038</td>\n",
       "      <td>0.238562</td>\n",
       "      <td>0.246305</td>\n",
       "      <td>0.411258</td>\n",
       "      <td>0.411258</td>\n",
       "    </tr>\n",
       "    <tr>\n",
       "      <th>min</th>\n",
       "      <td>-8.700000</td>\n",
       "      <td>-4.100000</td>\n",
       "      <td>0.000000</td>\n",
       "      <td>0.000000</td>\n",
       "      <td>0.000000</td>\n",
       "      <td>2.000000</td>\n",
       "      <td>0.000000</td>\n",
       "      <td>0.000000</td>\n",
       "      <td>0.000000</td>\n",
       "      <td>0.000000</td>\n",
       "      <td>...</td>\n",
       "      <td>0.000000</td>\n",
       "      <td>0.000000</td>\n",
       "      <td>0.000000</td>\n",
       "      <td>0.000000</td>\n",
       "      <td>0.000000</td>\n",
       "      <td>0.000000</td>\n",
       "      <td>0.000000</td>\n",
       "      <td>0.000000</td>\n",
       "      <td>0.000000</td>\n",
       "      <td>0.000000</td>\n",
       "    </tr>\n",
       "    <tr>\n",
       "      <th>25%</th>\n",
       "      <td>7.600000</td>\n",
       "      <td>18.000000</td>\n",
       "      <td>0.000000</td>\n",
       "      <td>5.200000</td>\n",
       "      <td>7.630908</td>\n",
       "      <td>31.000000</td>\n",
       "      <td>7.000000</td>\n",
       "      <td>13.000000</td>\n",
       "      <td>57.000000</td>\n",
       "      <td>37.000000</td>\n",
       "      <td>...</td>\n",
       "      <td>0.000000</td>\n",
       "      <td>0.000000</td>\n",
       "      <td>0.000000</td>\n",
       "      <td>0.000000</td>\n",
       "      <td>0.000000</td>\n",
       "      <td>0.000000</td>\n",
       "      <td>0.000000</td>\n",
       "      <td>0.000000</td>\n",
       "      <td>1.000000</td>\n",
       "      <td>0.000000</td>\n",
       "    </tr>\n",
       "    <tr>\n",
       "      <th>50%</th>\n",
       "      <td>12.093779</td>\n",
       "      <td>22.800000</td>\n",
       "      <td>0.000000</td>\n",
       "      <td>5.507538</td>\n",
       "      <td>7.630908</td>\n",
       "      <td>39.000000</td>\n",
       "      <td>13.000000</td>\n",
       "      <td>18.589584</td>\n",
       "      <td>69.000000</td>\n",
       "      <td>51.415096</td>\n",
       "      <td>...</td>\n",
       "      <td>0.000000</td>\n",
       "      <td>0.000000</td>\n",
       "      <td>0.000000</td>\n",
       "      <td>0.000000</td>\n",
       "      <td>0.000000</td>\n",
       "      <td>0.000000</td>\n",
       "      <td>0.000000</td>\n",
       "      <td>0.000000</td>\n",
       "      <td>1.000000</td>\n",
       "      <td>0.000000</td>\n",
       "    </tr>\n",
       "    <tr>\n",
       "      <th>75%</th>\n",
       "      <td>16.700000</td>\n",
       "      <td>28.100000</td>\n",
       "      <td>0.600000</td>\n",
       "      <td>5.507538</td>\n",
       "      <td>7.630908</td>\n",
       "      <td>46.000000</td>\n",
       "      <td>19.000000</td>\n",
       "      <td>24.000000</td>\n",
       "      <td>83.000000</td>\n",
       "      <td>65.000000</td>\n",
       "      <td>...</td>\n",
       "      <td>0.000000</td>\n",
       "      <td>0.000000</td>\n",
       "      <td>0.000000</td>\n",
       "      <td>0.000000</td>\n",
       "      <td>0.000000</td>\n",
       "      <td>0.000000</td>\n",
       "      <td>0.000000</td>\n",
       "      <td>0.000000</td>\n",
       "      <td>1.000000</td>\n",
       "      <td>0.000000</td>\n",
       "    </tr>\n",
       "    <tr>\n",
       "      <th>max</th>\n",
       "      <td>33.900000</td>\n",
       "      <td>48.900000</td>\n",
       "      <td>474.000000</td>\n",
       "      <td>138.700000</td>\n",
       "      <td>14.500000</td>\n",
       "      <td>146.000000</td>\n",
       "      <td>87.000000</td>\n",
       "      <td>87.000000</td>\n",
       "      <td>100.000000</td>\n",
       "      <td>100.000000</td>\n",
       "      <td>...</td>\n",
       "      <td>1.000000</td>\n",
       "      <td>1.000000</td>\n",
       "      <td>1.000000</td>\n",
       "      <td>1.000000</td>\n",
       "      <td>1.000000</td>\n",
       "      <td>1.000000</td>\n",
       "      <td>1.000000</td>\n",
       "      <td>1.000000</td>\n",
       "      <td>1.000000</td>\n",
       "      <td>1.000000</td>\n",
       "    </tr>\n",
       "  </tbody>\n",
       "</table>\n",
       "<p>8 rows × 68 columns</p>\n",
       "</div>"
      ],
      "text/plain": [
       "             MinTemp        MaxTemp       Rainfall    Evaporation  \\\n",
       "count  226868.000000  226868.000000  226868.000000  226868.000000   \n",
       "mean       12.093779      23.214681       2.278225       5.507538   \n",
       "std         6.365523       7.070992       8.423387       2.846764   \n",
       "min        -8.700000      -4.100000       0.000000       0.000000   \n",
       "25%         7.600000      18.000000       0.000000       5.200000   \n",
       "50%        12.093779      22.800000       0.000000       5.507538   \n",
       "75%        16.700000      28.100000       0.600000       5.507538   \n",
       "max        33.900000      48.900000     474.000000     138.700000   \n",
       "\n",
       "            Sunshine  WindGustSpeed   WindSpeed9am   WindSpeed3pm  \\\n",
       "count  226868.000000  226868.000000  226868.000000  226868.000000   \n",
       "mean        7.630908      40.058005      14.063960      18.589584   \n",
       "std         2.435401      13.006794       8.780651       8.554661   \n",
       "min         0.000000       2.000000       0.000000       0.000000   \n",
       "25%         7.630908      31.000000       7.000000      13.000000   \n",
       "50%         7.630908      39.000000      13.000000      18.589584   \n",
       "75%         7.630908      46.000000      19.000000      24.000000   \n",
       "max        14.500000     146.000000      87.000000      87.000000   \n",
       "\n",
       "         Humidity9am    Humidity3pm  ...   WindDir3pm_S  WindDir3pm_SE  \\\n",
       "count  226868.000000  226868.000000  ...  226868.000000  226868.000000   \n",
       "mean       68.939030      51.415096  ...       0.066391       0.072315   \n",
       "std        19.224684      20.623182  ...       0.248965       0.259010   \n",
       "min         0.000000       0.000000  ...       0.000000       0.000000   \n",
       "25%        57.000000      37.000000  ...       0.000000       0.000000   \n",
       "50%        69.000000      51.415096  ...       0.000000       0.000000   \n",
       "75%        83.000000      65.000000  ...       0.000000       0.000000   \n",
       "max       100.000000     100.000000  ...       1.000000       1.000000   \n",
       "\n",
       "       WindDir3pm_SSE  WindDir3pm_SSW  WindDir3pm_SW   WindDir3pm_W  \\\n",
       "count   226868.000000   226868.000000  226868.000000  226868.000000   \n",
       "mean         0.062499        0.057183       0.062089       0.110924   \n",
       "std          0.242060        0.232193       0.241318       0.314038   \n",
       "min          0.000000        0.000000       0.000000       0.000000   \n",
       "25%          0.000000        0.000000       0.000000       0.000000   \n",
       "50%          0.000000        0.000000       0.000000       0.000000   \n",
       "75%          0.000000        0.000000       0.000000       0.000000   \n",
       "max          1.000000        1.000000       1.000000       1.000000   \n",
       "\n",
       "       WindDir3pm_WNW  WindDir3pm_WSW   RainToday_No  RainToday_Yes  \n",
       "count   226868.000000   226868.000000  226868.000000  226868.000000  \n",
       "mean         0.060581        0.064875       0.784372       0.215628  \n",
       "std          0.238562        0.246305       0.411258       0.411258  \n",
       "min          0.000000        0.000000       0.000000       0.000000  \n",
       "25%          0.000000        0.000000       1.000000       0.000000  \n",
       "50%          0.000000        0.000000       1.000000       0.000000  \n",
       "75%          0.000000        0.000000       1.000000       0.000000  \n",
       "max          1.000000        1.000000       1.000000       1.000000  \n",
       "\n",
       "[8 rows x 68 columns]"
      ]
     },
     "execution_count": 40,
     "metadata": {},
     "output_type": "execute_result"
    }
   ],
   "source": [
    "df.describe()"
   ]
  },
  {
   "cell_type": "code",
   "execution_count": 41,
   "id": "aba083bd",
   "metadata": {},
   "outputs": [
    {
     "data": {
      "text/html": [
       "<div>\n",
       "<style scoped>\n",
       "    .dataframe tbody tr th:only-of-type {\n",
       "        vertical-align: middle;\n",
       "    }\n",
       "\n",
       "    .dataframe tbody tr th {\n",
       "        vertical-align: top;\n",
       "    }\n",
       "\n",
       "    .dataframe thead th {\n",
       "        text-align: right;\n",
       "    }\n",
       "</style>\n",
       "<table border=\"1\" class=\"dataframe\">\n",
       "  <thead>\n",
       "    <tr style=\"text-align: right;\">\n",
       "      <th></th>\n",
       "      <th>MinTemp</th>\n",
       "      <th>MaxTemp</th>\n",
       "      <th>Rainfall</th>\n",
       "      <th>Evaporation</th>\n",
       "      <th>Sunshine</th>\n",
       "      <th>WindGustSpeed</th>\n",
       "      <th>WindSpeed9am</th>\n",
       "      <th>WindSpeed3pm</th>\n",
       "      <th>Humidity9am</th>\n",
       "      <th>Humidity3pm</th>\n",
       "      <th>...</th>\n",
       "      <th>WindDir3pm_S</th>\n",
       "      <th>WindDir3pm_SE</th>\n",
       "      <th>WindDir3pm_SSE</th>\n",
       "      <th>WindDir3pm_SSW</th>\n",
       "      <th>WindDir3pm_SW</th>\n",
       "      <th>WindDir3pm_W</th>\n",
       "      <th>WindDir3pm_WNW</th>\n",
       "      <th>WindDir3pm_WSW</th>\n",
       "      <th>RainToday_No</th>\n",
       "      <th>RainToday_Yes</th>\n",
       "    </tr>\n",
       "  </thead>\n",
       "  <tbody>\n",
       "    <tr>\n",
       "      <th>MinTemp</th>\n",
       "      <td>1.000000</td>\n",
       "      <td>0.731899</td>\n",
       "      <td>0.103877</td>\n",
       "      <td>0.305066</td>\n",
       "      <td>0.049972</td>\n",
       "      <td>0.168713</td>\n",
       "      <td>0.174905</td>\n",
       "      <td>0.168958</td>\n",
       "      <td>-0.235921</td>\n",
       "      <td>0.002080</td>\n",
       "      <td>...</td>\n",
       "      <td>-0.005180</td>\n",
       "      <td>0.073494</td>\n",
       "      <td>0.024892</td>\n",
       "      <td>-0.030347</td>\n",
       "      <td>-0.048596</td>\n",
       "      <td>-0.077501</td>\n",
       "      <td>-0.047517</td>\n",
       "      <td>-0.061245</td>\n",
       "      <td>-0.052774</td>\n",
       "      <td>0.052774</td>\n",
       "    </tr>\n",
       "    <tr>\n",
       "      <th>MaxTemp</th>\n",
       "      <td>0.731899</td>\n",
       "      <td>1.000000</td>\n",
       "      <td>-0.070697</td>\n",
       "      <td>0.379839</td>\n",
       "      <td>0.297016</td>\n",
       "      <td>0.062459</td>\n",
       "      <td>0.014773</td>\n",
       "      <td>0.046267</td>\n",
       "      <td>-0.507497</td>\n",
       "      <td>-0.505963</td>\n",
       "      <td>...</td>\n",
       "      <td>-0.054479</td>\n",
       "      <td>0.037309</td>\n",
       "      <td>-0.011827</td>\n",
       "      <td>-0.056351</td>\n",
       "      <td>-0.054152</td>\n",
       "      <td>-0.096382</td>\n",
       "      <td>-0.026807</td>\n",
       "      <td>-0.061904</td>\n",
       "      <td>0.226453</td>\n",
       "      <td>-0.226453</td>\n",
       "    </tr>\n",
       "    <tr>\n",
       "      <th>Rainfall</th>\n",
       "      <td>0.103877</td>\n",
       "      <td>-0.070697</td>\n",
       "      <td>1.000000</td>\n",
       "      <td>-0.032067</td>\n",
       "      <td>-0.152088</td>\n",
       "      <td>0.120992</td>\n",
       "      <td>0.080212</td>\n",
       "      <td>0.052185</td>\n",
       "      <td>0.218996</td>\n",
       "      <td>0.250042</td>\n",
       "      <td>...</td>\n",
       "      <td>0.024592</td>\n",
       "      <td>0.006692</td>\n",
       "      <td>0.015124</td>\n",
       "      <td>0.023708</td>\n",
       "      <td>0.007628</td>\n",
       "      <td>0.010879</td>\n",
       "      <td>0.007316</td>\n",
       "      <td>0.007616</td>\n",
       "      <td>-0.499632</td>\n",
       "      <td>0.499632</td>\n",
       "    </tr>\n",
       "    <tr>\n",
       "      <th>Evaporation</th>\n",
       "      <td>0.305066</td>\n",
       "      <td>0.379839</td>\n",
       "      <td>-0.032067</td>\n",
       "      <td>1.000000</td>\n",
       "      <td>0.270489</td>\n",
       "      <td>0.130215</td>\n",
       "      <td>0.117052</td>\n",
       "      <td>0.085679</td>\n",
       "      <td>-0.318300</td>\n",
       "      <td>-0.243398</td>\n",
       "      <td>...</td>\n",
       "      <td>-0.010422</td>\n",
       "      <td>0.021780</td>\n",
       "      <td>0.009469</td>\n",
       "      <td>-0.008831</td>\n",
       "      <td>0.001081</td>\n",
       "      <td>-0.011947</td>\n",
       "      <td>-0.017299</td>\n",
       "      <td>-0.007052</td>\n",
       "      <td>0.119599</td>\n",
       "      <td>-0.119599</td>\n",
       "    </tr>\n",
       "    <tr>\n",
       "      <th>Sunshine</th>\n",
       "      <td>0.049972</td>\n",
       "      <td>0.297016</td>\n",
       "      <td>-0.152088</td>\n",
       "      <td>0.270489</td>\n",
       "      <td>1.000000</td>\n",
       "      <td>-0.025332</td>\n",
       "      <td>-0.001826</td>\n",
       "      <td>0.033967</td>\n",
       "      <td>-0.305258</td>\n",
       "      <td>-0.391340</td>\n",
       "      <td>...</td>\n",
       "      <td>-0.029852</td>\n",
       "      <td>0.014752</td>\n",
       "      <td>-0.010705</td>\n",
       "      <td>-0.016880</td>\n",
       "      <td>0.021775</td>\n",
       "      <td>-0.017978</td>\n",
       "      <td>-0.010353</td>\n",
       "      <td>0.006170</td>\n",
       "      <td>0.213965</td>\n",
       "      <td>-0.213965</td>\n",
       "    </tr>\n",
       "    <tr>\n",
       "      <th>...</th>\n",
       "      <td>...</td>\n",
       "      <td>...</td>\n",
       "      <td>...</td>\n",
       "      <td>...</td>\n",
       "      <td>...</td>\n",
       "      <td>...</td>\n",
       "      <td>...</td>\n",
       "      <td>...</td>\n",
       "      <td>...</td>\n",
       "      <td>...</td>\n",
       "      <td>...</td>\n",
       "      <td>...</td>\n",
       "      <td>...</td>\n",
       "      <td>...</td>\n",
       "      <td>...</td>\n",
       "      <td>...</td>\n",
       "      <td>...</td>\n",
       "      <td>...</td>\n",
       "      <td>...</td>\n",
       "      <td>...</td>\n",
       "      <td>...</td>\n",
       "    </tr>\n",
       "    <tr>\n",
       "      <th>WindDir3pm_W</th>\n",
       "      <td>-0.077501</td>\n",
       "      <td>-0.096382</td>\n",
       "      <td>0.010879</td>\n",
       "      <td>-0.011947</td>\n",
       "      <td>-0.017978</td>\n",
       "      <td>0.051993</td>\n",
       "      <td>-0.009192</td>\n",
       "      <td>0.001880</td>\n",
       "      <td>0.049935</td>\n",
       "      <td>0.012100</td>\n",
       "      <td>...</td>\n",
       "      <td>-0.094192</td>\n",
       "      <td>-0.098618</td>\n",
       "      <td>-0.091200</td>\n",
       "      <td>-0.086989</td>\n",
       "      <td>-0.090880</td>\n",
       "      <td>1.000000</td>\n",
       "      <td>-0.089698</td>\n",
       "      <td>-0.093035</td>\n",
       "      <td>-0.044121</td>\n",
       "      <td>0.044121</td>\n",
       "    </tr>\n",
       "    <tr>\n",
       "      <th>WindDir3pm_WNW</th>\n",
       "      <td>-0.047517</td>\n",
       "      <td>-0.026807</td>\n",
       "      <td>0.007316</td>\n",
       "      <td>-0.017299</td>\n",
       "      <td>-0.010353</td>\n",
       "      <td>0.091809</td>\n",
       "      <td>0.015429</td>\n",
       "      <td>0.056808</td>\n",
       "      <td>-0.006935</td>\n",
       "      <td>-0.036736</td>\n",
       "      <td>...</td>\n",
       "      <td>-0.067719</td>\n",
       "      <td>-0.070901</td>\n",
       "      <td>-0.065568</td>\n",
       "      <td>-0.062540</td>\n",
       "      <td>-0.065338</td>\n",
       "      <td>-0.089698</td>\n",
       "      <td>1.000000</td>\n",
       "      <td>-0.066887</td>\n",
       "      <td>-0.026930</td>\n",
       "      <td>0.026930</td>\n",
       "    </tr>\n",
       "    <tr>\n",
       "      <th>WindDir3pm_WSW</th>\n",
       "      <td>-0.061245</td>\n",
       "      <td>-0.061904</td>\n",
       "      <td>0.007616</td>\n",
       "      <td>-0.007052</td>\n",
       "      <td>0.006170</td>\n",
       "      <td>0.045651</td>\n",
       "      <td>0.011217</td>\n",
       "      <td>0.037857</td>\n",
       "      <td>-0.005072</td>\n",
       "      <td>-0.012808</td>\n",
       "      <td>...</td>\n",
       "      <td>-0.070238</td>\n",
       "      <td>-0.073539</td>\n",
       "      <td>-0.068007</td>\n",
       "      <td>-0.064867</td>\n",
       "      <td>-0.067769</td>\n",
       "      <td>-0.093035</td>\n",
       "      <td>-0.066887</td>\n",
       "      <td>1.000000</td>\n",
       "      <td>-0.044011</td>\n",
       "      <td>0.044011</td>\n",
       "    </tr>\n",
       "    <tr>\n",
       "      <th>RainToday_No</th>\n",
       "      <td>-0.052774</td>\n",
       "      <td>0.226453</td>\n",
       "      <td>-0.499632</td>\n",
       "      <td>0.119599</td>\n",
       "      <td>0.213965</td>\n",
       "      <td>-0.142142</td>\n",
       "      <td>-0.094051</td>\n",
       "      <td>-0.073323</td>\n",
       "      <td>-0.347784</td>\n",
       "      <td>-0.371687</td>\n",
       "      <td>...</td>\n",
       "      <td>-0.030145</td>\n",
       "      <td>0.002797</td>\n",
       "      <td>-0.011495</td>\n",
       "      <td>-0.043836</td>\n",
       "      <td>-0.036316</td>\n",
       "      <td>-0.044121</td>\n",
       "      <td>-0.026930</td>\n",
       "      <td>-0.044011</td>\n",
       "      <td>1.000000</td>\n",
       "      <td>-1.000000</td>\n",
       "    </tr>\n",
       "    <tr>\n",
       "      <th>RainToday_Yes</th>\n",
       "      <td>0.052774</td>\n",
       "      <td>-0.226453</td>\n",
       "      <td>0.499632</td>\n",
       "      <td>-0.119599</td>\n",
       "      <td>-0.213965</td>\n",
       "      <td>0.142142</td>\n",
       "      <td>0.094051</td>\n",
       "      <td>0.073323</td>\n",
       "      <td>0.347784</td>\n",
       "      <td>0.371687</td>\n",
       "      <td>...</td>\n",
       "      <td>0.030145</td>\n",
       "      <td>-0.002797</td>\n",
       "      <td>0.011495</td>\n",
       "      <td>0.043836</td>\n",
       "      <td>0.036316</td>\n",
       "      <td>0.044121</td>\n",
       "      <td>0.026930</td>\n",
       "      <td>0.044011</td>\n",
       "      <td>-1.000000</td>\n",
       "      <td>1.000000</td>\n",
       "    </tr>\n",
       "  </tbody>\n",
       "</table>\n",
       "<p>68 rows × 68 columns</p>\n",
       "</div>"
      ],
      "text/plain": [
       "                 MinTemp   MaxTemp  Rainfall  Evaporation  Sunshine  \\\n",
       "MinTemp         1.000000  0.731899  0.103877     0.305066  0.049972   \n",
       "MaxTemp         0.731899  1.000000 -0.070697     0.379839  0.297016   \n",
       "Rainfall        0.103877 -0.070697  1.000000    -0.032067 -0.152088   \n",
       "Evaporation     0.305066  0.379839 -0.032067     1.000000  0.270489   \n",
       "Sunshine        0.049972  0.297016 -0.152088     0.270489  1.000000   \n",
       "...                  ...       ...       ...          ...       ...   \n",
       "WindDir3pm_W   -0.077501 -0.096382  0.010879    -0.011947 -0.017978   \n",
       "WindDir3pm_WNW -0.047517 -0.026807  0.007316    -0.017299 -0.010353   \n",
       "WindDir3pm_WSW -0.061245 -0.061904  0.007616    -0.007052  0.006170   \n",
       "RainToday_No   -0.052774  0.226453 -0.499632     0.119599  0.213965   \n",
       "RainToday_Yes   0.052774 -0.226453  0.499632    -0.119599 -0.213965   \n",
       "\n",
       "                WindGustSpeed  WindSpeed9am  WindSpeed3pm  Humidity9am  \\\n",
       "MinTemp              0.168713      0.174905      0.168958    -0.235921   \n",
       "MaxTemp              0.062459      0.014773      0.046267    -0.507497   \n",
       "Rainfall             0.120992      0.080212      0.052185     0.218996   \n",
       "Evaporation          0.130215      0.117052      0.085679    -0.318300   \n",
       "Sunshine            -0.025332     -0.001826      0.033967    -0.305258   \n",
       "...                       ...           ...           ...          ...   \n",
       "WindDir3pm_W         0.051993     -0.009192      0.001880     0.049935   \n",
       "WindDir3pm_WNW       0.091809      0.015429      0.056808    -0.006935   \n",
       "WindDir3pm_WSW       0.045651      0.011217      0.037857    -0.005072   \n",
       "RainToday_No        -0.142142     -0.094051     -0.073323    -0.347784   \n",
       "RainToday_Yes        0.142142      0.094051      0.073323     0.347784   \n",
       "\n",
       "                Humidity3pm  ...  WindDir3pm_S  WindDir3pm_SE  WindDir3pm_SSE  \\\n",
       "MinTemp            0.002080  ...     -0.005180       0.073494        0.024892   \n",
       "MaxTemp           -0.505963  ...     -0.054479       0.037309       -0.011827   \n",
       "Rainfall           0.250042  ...      0.024592       0.006692        0.015124   \n",
       "Evaporation       -0.243398  ...     -0.010422       0.021780        0.009469   \n",
       "Sunshine          -0.391340  ...     -0.029852       0.014752       -0.010705   \n",
       "...                     ...  ...           ...            ...             ...   \n",
       "WindDir3pm_W       0.012100  ...     -0.094192      -0.098618       -0.091200   \n",
       "WindDir3pm_WNW    -0.036736  ...     -0.067719      -0.070901       -0.065568   \n",
       "WindDir3pm_WSW    -0.012808  ...     -0.070238      -0.073539       -0.068007   \n",
       "RainToday_No      -0.371687  ...     -0.030145       0.002797       -0.011495   \n",
       "RainToday_Yes      0.371687  ...      0.030145      -0.002797        0.011495   \n",
       "\n",
       "                WindDir3pm_SSW  WindDir3pm_SW  WindDir3pm_W  WindDir3pm_WNW  \\\n",
       "MinTemp              -0.030347      -0.048596     -0.077501       -0.047517   \n",
       "MaxTemp              -0.056351      -0.054152     -0.096382       -0.026807   \n",
       "Rainfall              0.023708       0.007628      0.010879        0.007316   \n",
       "Evaporation          -0.008831       0.001081     -0.011947       -0.017299   \n",
       "Sunshine             -0.016880       0.021775     -0.017978       -0.010353   \n",
       "...                        ...            ...           ...             ...   \n",
       "WindDir3pm_W         -0.086989      -0.090880      1.000000       -0.089698   \n",
       "WindDir3pm_WNW       -0.062540      -0.065338     -0.089698        1.000000   \n",
       "WindDir3pm_WSW       -0.064867      -0.067769     -0.093035       -0.066887   \n",
       "RainToday_No         -0.043836      -0.036316     -0.044121       -0.026930   \n",
       "RainToday_Yes         0.043836       0.036316      0.044121        0.026930   \n",
       "\n",
       "                WindDir3pm_WSW  RainToday_No  RainToday_Yes  \n",
       "MinTemp              -0.061245     -0.052774       0.052774  \n",
       "MaxTemp              -0.061904      0.226453      -0.226453  \n",
       "Rainfall              0.007616     -0.499632       0.499632  \n",
       "Evaporation          -0.007052      0.119599      -0.119599  \n",
       "Sunshine              0.006170      0.213965      -0.213965  \n",
       "...                        ...           ...            ...  \n",
       "WindDir3pm_W         -0.093035     -0.044121       0.044121  \n",
       "WindDir3pm_WNW       -0.066887     -0.026930       0.026930  \n",
       "WindDir3pm_WSW        1.000000     -0.044011       0.044011  \n",
       "RainToday_No         -0.044011      1.000000      -1.000000  \n",
       "RainToday_Yes         0.044011     -1.000000       1.000000  \n",
       "\n",
       "[68 rows x 68 columns]"
      ]
     },
     "execution_count": 41,
     "metadata": {},
     "output_type": "execute_result"
    }
   ],
   "source": [
    "df.corr()"
   ]
  },
  {
   "cell_type": "markdown",
   "id": "ec86cc61",
   "metadata": {},
   "source": [
    "                                          Multiple Linear Regression"
   ]
  },
  {
   "cell_type": "code",
   "execution_count": 42,
   "id": "99597cb7",
   "metadata": {},
   "outputs": [],
   "source": [
    "import statsmodels.api as sn \n",
    "from sklearn.linear_model import LinearRegression"
   ]
  },
  {
   "cell_type": "code",
   "execution_count": 43,
   "id": "5db332ea",
   "metadata": {},
   "outputs": [],
   "source": [
    "X = df.drop('RainTomorrow',axis=1)\n",
    "Y = df['RainTomorrow']"
   ]
  },
  {
   "cell_type": "code",
   "execution_count": 44,
   "id": "a8c6631a",
   "metadata": {},
   "outputs": [
    {
     "data": {
      "text/html": [
       "<div>\n",
       "<style scoped>\n",
       "    .dataframe tbody tr th:only-of-type {\n",
       "        vertical-align: middle;\n",
       "    }\n",
       "\n",
       "    .dataframe tbody tr th {\n",
       "        vertical-align: top;\n",
       "    }\n",
       "\n",
       "    .dataframe thead th {\n",
       "        text-align: right;\n",
       "    }\n",
       "</style>\n",
       "<table border=\"1\" class=\"dataframe\">\n",
       "  <thead>\n",
       "    <tr style=\"text-align: right;\">\n",
       "      <th></th>\n",
       "      <th>const</th>\n",
       "      <th>MinTemp</th>\n",
       "      <th>MaxTemp</th>\n",
       "      <th>Rainfall</th>\n",
       "      <th>Evaporation</th>\n",
       "      <th>Sunshine</th>\n",
       "      <th>WindGustSpeed</th>\n",
       "      <th>WindSpeed9am</th>\n",
       "      <th>WindSpeed3pm</th>\n",
       "      <th>Humidity9am</th>\n",
       "      <th>...</th>\n",
       "      <th>WindDir3pm_S</th>\n",
       "      <th>WindDir3pm_SE</th>\n",
       "      <th>WindDir3pm_SSE</th>\n",
       "      <th>WindDir3pm_SSW</th>\n",
       "      <th>WindDir3pm_SW</th>\n",
       "      <th>WindDir3pm_W</th>\n",
       "      <th>WindDir3pm_WNW</th>\n",
       "      <th>WindDir3pm_WSW</th>\n",
       "      <th>RainToday_No</th>\n",
       "      <th>RainToday_Yes</th>\n",
       "    </tr>\n",
       "  </thead>\n",
       "  <tbody>\n",
       "    <tr>\n",
       "      <th>0</th>\n",
       "      <td>1.0</td>\n",
       "      <td>13.4</td>\n",
       "      <td>22.9</td>\n",
       "      <td>0.6</td>\n",
       "      <td>5.507538</td>\n",
       "      <td>7.630908</td>\n",
       "      <td>44.0</td>\n",
       "      <td>20.0</td>\n",
       "      <td>24.0</td>\n",
       "      <td>71.0</td>\n",
       "      <td>...</td>\n",
       "      <td>0.0</td>\n",
       "      <td>0.0</td>\n",
       "      <td>0.0</td>\n",
       "      <td>0.0</td>\n",
       "      <td>0.0</td>\n",
       "      <td>0.0</td>\n",
       "      <td>1.0</td>\n",
       "      <td>0.0</td>\n",
       "      <td>1.0</td>\n",
       "      <td>0.0</td>\n",
       "    </tr>\n",
       "    <tr>\n",
       "      <th>1</th>\n",
       "      <td>1.0</td>\n",
       "      <td>7.4</td>\n",
       "      <td>25.1</td>\n",
       "      <td>0.0</td>\n",
       "      <td>5.507538</td>\n",
       "      <td>7.630908</td>\n",
       "      <td>44.0</td>\n",
       "      <td>4.0</td>\n",
       "      <td>22.0</td>\n",
       "      <td>44.0</td>\n",
       "      <td>...</td>\n",
       "      <td>0.0</td>\n",
       "      <td>0.0</td>\n",
       "      <td>0.0</td>\n",
       "      <td>0.0</td>\n",
       "      <td>0.0</td>\n",
       "      <td>0.0</td>\n",
       "      <td>0.0</td>\n",
       "      <td>1.0</td>\n",
       "      <td>1.0</td>\n",
       "      <td>0.0</td>\n",
       "    </tr>\n",
       "    <tr>\n",
       "      <th>2</th>\n",
       "      <td>1.0</td>\n",
       "      <td>12.9</td>\n",
       "      <td>25.7</td>\n",
       "      <td>0.0</td>\n",
       "      <td>5.507538</td>\n",
       "      <td>7.630908</td>\n",
       "      <td>46.0</td>\n",
       "      <td>19.0</td>\n",
       "      <td>26.0</td>\n",
       "      <td>38.0</td>\n",
       "      <td>...</td>\n",
       "      <td>0.0</td>\n",
       "      <td>0.0</td>\n",
       "      <td>0.0</td>\n",
       "      <td>0.0</td>\n",
       "      <td>0.0</td>\n",
       "      <td>0.0</td>\n",
       "      <td>0.0</td>\n",
       "      <td>1.0</td>\n",
       "      <td>1.0</td>\n",
       "      <td>0.0</td>\n",
       "    </tr>\n",
       "    <tr>\n",
       "      <th>3</th>\n",
       "      <td>1.0</td>\n",
       "      <td>9.2</td>\n",
       "      <td>28.0</td>\n",
       "      <td>0.0</td>\n",
       "      <td>5.507538</td>\n",
       "      <td>7.630908</td>\n",
       "      <td>24.0</td>\n",
       "      <td>11.0</td>\n",
       "      <td>9.0</td>\n",
       "      <td>45.0</td>\n",
       "      <td>...</td>\n",
       "      <td>0.0</td>\n",
       "      <td>0.0</td>\n",
       "      <td>0.0</td>\n",
       "      <td>0.0</td>\n",
       "      <td>0.0</td>\n",
       "      <td>0.0</td>\n",
       "      <td>0.0</td>\n",
       "      <td>0.0</td>\n",
       "      <td>1.0</td>\n",
       "      <td>0.0</td>\n",
       "    </tr>\n",
       "    <tr>\n",
       "      <th>4</th>\n",
       "      <td>1.0</td>\n",
       "      <td>17.5</td>\n",
       "      <td>32.3</td>\n",
       "      <td>1.0</td>\n",
       "      <td>5.507538</td>\n",
       "      <td>7.630908</td>\n",
       "      <td>41.0</td>\n",
       "      <td>7.0</td>\n",
       "      <td>20.0</td>\n",
       "      <td>82.0</td>\n",
       "      <td>...</td>\n",
       "      <td>0.0</td>\n",
       "      <td>0.0</td>\n",
       "      <td>0.0</td>\n",
       "      <td>0.0</td>\n",
       "      <td>0.0</td>\n",
       "      <td>0.0</td>\n",
       "      <td>0.0</td>\n",
       "      <td>0.0</td>\n",
       "      <td>1.0</td>\n",
       "      <td>0.0</td>\n",
       "    </tr>\n",
       "  </tbody>\n",
       "</table>\n",
       "<p>5 rows × 68 columns</p>\n",
       "</div>"
      ],
      "text/plain": [
       "   const  MinTemp  MaxTemp  Rainfall  Evaporation  Sunshine  WindGustSpeed  \\\n",
       "0    1.0     13.4     22.9       0.6     5.507538  7.630908           44.0   \n",
       "1    1.0      7.4     25.1       0.0     5.507538  7.630908           44.0   \n",
       "2    1.0     12.9     25.7       0.0     5.507538  7.630908           46.0   \n",
       "3    1.0      9.2     28.0       0.0     5.507538  7.630908           24.0   \n",
       "4    1.0     17.5     32.3       1.0     5.507538  7.630908           41.0   \n",
       "\n",
       "   WindSpeed9am  WindSpeed3pm  Humidity9am  ...  WindDir3pm_S  WindDir3pm_SE  \\\n",
       "0          20.0          24.0         71.0  ...           0.0            0.0   \n",
       "1           4.0          22.0         44.0  ...           0.0            0.0   \n",
       "2          19.0          26.0         38.0  ...           0.0            0.0   \n",
       "3          11.0           9.0         45.0  ...           0.0            0.0   \n",
       "4           7.0          20.0         82.0  ...           0.0            0.0   \n",
       "\n",
       "   WindDir3pm_SSE  WindDir3pm_SSW  WindDir3pm_SW  WindDir3pm_W  \\\n",
       "0             0.0             0.0            0.0           0.0   \n",
       "1             0.0             0.0            0.0           0.0   \n",
       "2             0.0             0.0            0.0           0.0   \n",
       "3             0.0             0.0            0.0           0.0   \n",
       "4             0.0             0.0            0.0           0.0   \n",
       "\n",
       "   WindDir3pm_WNW  WindDir3pm_WSW  RainToday_No  RainToday_Yes  \n",
       "0             1.0             0.0           1.0            0.0  \n",
       "1             0.0             1.0           1.0            0.0  \n",
       "2             0.0             1.0           1.0            0.0  \n",
       "3             0.0             0.0           1.0            0.0  \n",
       "4             0.0             0.0           1.0            0.0  \n",
       "\n",
       "[5 rows x 68 columns]"
      ]
     },
     "execution_count": 44,
     "metadata": {},
     "output_type": "execute_result"
    }
   ],
   "source": [
    "X_c = sn.add_constant(X)\n",
    "X_c.head()"
   ]
  },
  {
   "cell_type": "code",
   "execution_count": 45,
   "id": "56887eb4",
   "metadata": {},
   "outputs": [],
   "source": [
    "lm = sn.OLS(Y,X).fit()"
   ]
  },
  {
   "cell_type": "code",
   "execution_count": 46,
   "id": "7ab3d4b1",
   "metadata": {},
   "outputs": [
    {
     "data": {
      "text/html": [
       "<table class=\"simpletable\">\n",
       "<caption>OLS Regression Results</caption>\n",
       "<tr>\n",
       "  <th>Dep. Variable:</th>      <td>RainTomorrow</td>   <th>  R-squared:         </th> <td>   0.404</td> \n",
       "</tr>\n",
       "<tr>\n",
       "  <th>Model:</th>                   <td>OLS</td>       <th>  Adj. R-squared:    </th> <td>   0.403</td> \n",
       "</tr>\n",
       "<tr>\n",
       "  <th>Method:</th>             <td>Least Squares</td>  <th>  F-statistic:       </th> <td>   2435.</td> \n",
       "</tr>\n",
       "<tr>\n",
       "  <th>Date:</th>             <td>Fri, 09 Jun 2023</td> <th>  Prob (F-statistic):</th>  <td>  0.00</td>  \n",
       "</tr>\n",
       "<tr>\n",
       "  <th>Time:</th>                 <td>14:43:17</td>     <th>  Log-Likelihood:    </th> <td> -61735.</td> \n",
       "</tr>\n",
       "<tr>\n",
       "  <th>No. Observations:</th>      <td>226868</td>      <th>  AIC:               </th> <td>1.236e+05</td>\n",
       "</tr>\n",
       "<tr>\n",
       "  <th>Df Residuals:</th>          <td>226804</td>      <th>  BIC:               </th> <td>1.243e+05</td>\n",
       "</tr>\n",
       "<tr>\n",
       "  <th>Df Model:</th>              <td>    63</td>      <th>                     </th>     <td> </td>    \n",
       "</tr>\n",
       "<tr>\n",
       "  <th>Covariance Type:</th>      <td>nonrobust</td>    <th>                     </th>     <td> </td>    \n",
       "</tr>\n",
       "</table>\n",
       "<table class=\"simpletable\">\n",
       "<tr>\n",
       "         <td></td>            <th>coef</th>     <th>std err</th>      <th>t</th>      <th>P>|t|</th>  <th>[0.025</th>    <th>0.975]</th>  \n",
       "</tr>\n",
       "<tr>\n",
       "  <th>MinTemp</th>         <td>    0.0002</td> <td>    0.000</td> <td>    0.717</td> <td> 0.474</td> <td>   -0.000</td> <td>    0.001</td>\n",
       "</tr>\n",
       "<tr>\n",
       "  <th>MaxTemp</th>         <td>   -0.0013</td> <td>    0.000</td> <td>   -2.738</td> <td> 0.006</td> <td>   -0.002</td> <td>   -0.000</td>\n",
       "</tr>\n",
       "<tr>\n",
       "  <th>Rainfall</th>        <td>   -0.0012</td> <td> 9.49e-05</td> <td>  -13.139</td> <td> 0.000</td> <td>   -0.001</td> <td>   -0.001</td>\n",
       "</tr>\n",
       "<tr>\n",
       "  <th>Evaporation</th>     <td>    0.0010</td> <td>    0.000</td> <td>    3.676</td> <td> 0.000</td> <td>    0.000</td> <td>    0.001</td>\n",
       "</tr>\n",
       "<tr>\n",
       "  <th>Sunshine</th>        <td>   -0.0120</td> <td>    0.000</td> <td>  -33.464</td> <td> 0.000</td> <td>   -0.013</td> <td>   -0.011</td>\n",
       "</tr>\n",
       "<tr>\n",
       "  <th>WindGustSpeed</th>   <td>    0.0053</td> <td> 8.18e-05</td> <td>   64.804</td> <td> 0.000</td> <td>    0.005</td> <td>    0.005</td>\n",
       "</tr>\n",
       "<tr>\n",
       "  <th>WindSpeed9am</th>    <td>   -0.0006</td> <td>    0.000</td> <td>   -5.906</td> <td> 0.000</td> <td>   -0.001</td> <td>   -0.000</td>\n",
       "</tr>\n",
       "<tr>\n",
       "  <th>WindSpeed3pm</th>    <td>   -0.0032</td> <td>    0.000</td> <td>  -28.705</td> <td> 0.000</td> <td>   -0.003</td> <td>   -0.003</td>\n",
       "</tr>\n",
       "<tr>\n",
       "  <th>Humidity9am</th>     <td>   -0.0008</td> <td> 6.69e-05</td> <td>  -11.899</td> <td> 0.000</td> <td>   -0.001</td> <td>   -0.001</td>\n",
       "</tr>\n",
       "<tr>\n",
       "  <th>Humidity3pm</th>     <td>    0.0062</td> <td> 7.61e-05</td> <td>   81.711</td> <td> 0.000</td> <td>    0.006</td> <td>    0.006</td>\n",
       "</tr>\n",
       "<tr>\n",
       "  <th>Pressure9am</th>     <td>    0.0068</td> <td>    0.000</td> <td>   14.944</td> <td> 0.000</td> <td>    0.006</td> <td>    0.008</td>\n",
       "</tr>\n",
       "<tr>\n",
       "  <th>Pressure3pm</th>     <td>   -0.0127</td> <td>    0.000</td> <td>  -27.724</td> <td> 0.000</td> <td>   -0.014</td> <td>   -0.012</td>\n",
       "</tr>\n",
       "<tr>\n",
       "  <th>Cloud9am</th>        <td>   -0.0005</td> <td>    0.000</td> <td>   -1.324</td> <td> 0.186</td> <td>   -0.001</td> <td>    0.000</td>\n",
       "</tr>\n",
       "<tr>\n",
       "  <th>Cloud3pm</th>        <td>    0.0093</td> <td>    0.000</td> <td>   21.939</td> <td> 0.000</td> <td>    0.009</td> <td>    0.010</td>\n",
       "</tr>\n",
       "<tr>\n",
       "  <th>Temp9am</th>         <td>   -0.0030</td> <td>    0.000</td> <td>   -6.659</td> <td> 0.000</td> <td>   -0.004</td> <td>   -0.002</td>\n",
       "</tr>\n",
       "<tr>\n",
       "  <th>Temp3pm</th>         <td>    0.0033</td> <td>    0.000</td> <td>    6.851</td> <td> 0.000</td> <td>    0.002</td> <td>    0.004</td>\n",
       "</tr>\n",
       "<tr>\n",
       "  <th>RISK_MM</th>         <td>    0.0164</td> <td> 8.88e-05</td> <td>  185.117</td> <td> 0.000</td> <td>    0.016</td> <td>    0.017</td>\n",
       "</tr>\n",
       "<tr>\n",
       "  <th>WindGustDir_E</th>   <td>    0.5251</td> <td>    0.013</td> <td>   41.103</td> <td> 0.000</td> <td>    0.500</td> <td>    0.550</td>\n",
       "</tr>\n",
       "<tr>\n",
       "  <th>WindGustDir_ENE</th> <td>    0.5215</td> <td>    0.013</td> <td>   40.862</td> <td> 0.000</td> <td>    0.496</td> <td>    0.547</td>\n",
       "</tr>\n",
       "<tr>\n",
       "  <th>WindGustDir_ESE</th> <td>    0.5340</td> <td>    0.013</td> <td>   41.746</td> <td> 0.000</td> <td>    0.509</td> <td>    0.559</td>\n",
       "</tr>\n",
       "<tr>\n",
       "  <th>WindGustDir_N</th>   <td>    0.5233</td> <td>    0.013</td> <td>   41.267</td> <td> 0.000</td> <td>    0.498</td> <td>    0.548</td>\n",
       "</tr>\n",
       "<tr>\n",
       "  <th>WindGustDir_NE</th>  <td>    0.5124</td> <td>    0.013</td> <td>   39.977</td> <td> 0.000</td> <td>    0.487</td> <td>    0.538</td>\n",
       "</tr>\n",
       "<tr>\n",
       "  <th>WindGustDir_NNE</th> <td>    0.5122</td> <td>    0.013</td> <td>   39.937</td> <td> 0.000</td> <td>    0.487</td> <td>    0.537</td>\n",
       "</tr>\n",
       "<tr>\n",
       "  <th>WindGustDir_NNW</th> <td>    0.5320</td> <td>    0.013</td> <td>   41.991</td> <td> 0.000</td> <td>    0.507</td> <td>    0.557</td>\n",
       "</tr>\n",
       "<tr>\n",
       "  <th>WindGustDir_NW</th>  <td>    0.5216</td> <td>    0.013</td> <td>   41.510</td> <td> 0.000</td> <td>    0.497</td> <td>    0.546</td>\n",
       "</tr>\n",
       "<tr>\n",
       "  <th>WindGustDir_S</th>   <td>    0.5301</td> <td>    0.013</td> <td>   41.614</td> <td> 0.000</td> <td>    0.505</td> <td>    0.555</td>\n",
       "</tr>\n",
       "<tr>\n",
       "  <th>WindGustDir_SE</th>  <td>    0.5391</td> <td>    0.013</td> <td>   42.233</td> <td> 0.000</td> <td>    0.514</td> <td>    0.564</td>\n",
       "</tr>\n",
       "<tr>\n",
       "  <th>WindGustDir_SSE</th> <td>    0.5339</td> <td>    0.013</td> <td>   41.851</td> <td> 0.000</td> <td>    0.509</td> <td>    0.559</td>\n",
       "</tr>\n",
       "<tr>\n",
       "  <th>WindGustDir_SSW</th> <td>    0.5307</td> <td>    0.013</td> <td>   41.867</td> <td> 0.000</td> <td>    0.506</td> <td>    0.556</td>\n",
       "</tr>\n",
       "<tr>\n",
       "  <th>WindGustDir_SW</th>  <td>    0.5373</td> <td>    0.013</td> <td>   42.611</td> <td> 0.000</td> <td>    0.513</td> <td>    0.562</td>\n",
       "</tr>\n",
       "<tr>\n",
       "  <th>WindGustDir_W</th>   <td>    0.5185</td> <td>    0.012</td> <td>   41.532</td> <td> 0.000</td> <td>    0.494</td> <td>    0.543</td>\n",
       "</tr>\n",
       "<tr>\n",
       "  <th>WindGustDir_WNW</th> <td>    0.5236</td> <td>    0.013</td> <td>   41.789</td> <td> 0.000</td> <td>    0.499</td> <td>    0.548</td>\n",
       "</tr>\n",
       "<tr>\n",
       "  <th>WindGustDir_WSW</th> <td>    0.5316</td> <td>    0.013</td> <td>   42.315</td> <td> 0.000</td> <td>    0.507</td> <td>    0.556</td>\n",
       "</tr>\n",
       "<tr>\n",
       "  <th>WindDir9am_E</th>    <td>    0.5293</td> <td>    0.013</td> <td>   41.814</td> <td> 0.000</td> <td>    0.504</td> <td>    0.554</td>\n",
       "</tr>\n",
       "<tr>\n",
       "  <th>WindDir9am_ENE</th>  <td>    0.5484</td> <td>    0.013</td> <td>   43.165</td> <td> 0.000</td> <td>    0.523</td> <td>    0.573</td>\n",
       "</tr>\n",
       "<tr>\n",
       "  <th>WindDir9am_ESE</th>  <td>    0.5163</td> <td>    0.013</td> <td>   40.708</td> <td> 0.000</td> <td>    0.491</td> <td>    0.541</td>\n",
       "</tr>\n",
       "<tr>\n",
       "  <th>WindDir9am_N</th>    <td>    0.5574</td> <td>    0.013</td> <td>   44.374</td> <td> 0.000</td> <td>    0.533</td> <td>    0.582</td>\n",
       "</tr>\n",
       "<tr>\n",
       "  <th>WindDir9am_NE</th>   <td>    0.5499</td> <td>    0.013</td> <td>   43.261</td> <td> 0.000</td> <td>    0.525</td> <td>    0.575</td>\n",
       "</tr>\n",
       "<tr>\n",
       "  <th>WindDir9am_NNE</th>  <td>    0.5643</td> <td>    0.013</td> <td>   44.482</td> <td> 0.000</td> <td>    0.539</td> <td>    0.589</td>\n",
       "</tr>\n",
       "<tr>\n",
       "  <th>WindDir9am_NNW</th>  <td>    0.5365</td> <td>    0.013</td> <td>   42.800</td> <td> 0.000</td> <td>    0.512</td> <td>    0.561</td>\n",
       "</tr>\n",
       "<tr>\n",
       "  <th>WindDir9am_NW</th>   <td>    0.5286</td> <td>    0.013</td> <td>   42.115</td> <td> 0.000</td> <td>    0.504</td> <td>    0.553</td>\n",
       "</tr>\n",
       "<tr>\n",
       "  <th>WindDir9am_S</th>    <td>    0.5017</td> <td>    0.013</td> <td>   39.501</td> <td> 0.000</td> <td>    0.477</td> <td>    0.527</td>\n",
       "</tr>\n",
       "<tr>\n",
       "  <th>WindDir9am_SE</th>   <td>    0.5048</td> <td>    0.013</td> <td>   39.968</td> <td> 0.000</td> <td>    0.480</td> <td>    0.530</td>\n",
       "</tr>\n",
       "<tr>\n",
       "  <th>WindDir9am_SSE</th>  <td>    0.5062</td> <td>    0.013</td> <td>   39.981</td> <td> 0.000</td> <td>    0.481</td> <td>    0.531</td>\n",
       "</tr>\n",
       "<tr>\n",
       "  <th>WindDir9am_SSW</th>  <td>    0.5047</td> <td>    0.013</td> <td>   39.648</td> <td> 0.000</td> <td>    0.480</td> <td>    0.530</td>\n",
       "</tr>\n",
       "<tr>\n",
       "  <th>WindDir9am_SW</th>   <td>    0.5189</td> <td>    0.013</td> <td>   40.752</td> <td> 0.000</td> <td>    0.494</td> <td>    0.544</td>\n",
       "</tr>\n",
       "<tr>\n",
       "  <th>WindDir9am_W</th>    <td>    0.5171</td> <td>    0.013</td> <td>   41.324</td> <td> 0.000</td> <td>    0.493</td> <td>    0.542</td>\n",
       "</tr>\n",
       "<tr>\n",
       "  <th>WindDir9am_WNW</th>  <td>    0.5238</td> <td>    0.013</td> <td>   41.568</td> <td> 0.000</td> <td>    0.499</td> <td>    0.548</td>\n",
       "</tr>\n",
       "<tr>\n",
       "  <th>WindDir9am_WSW</th>  <td>    0.5191</td> <td>    0.013</td> <td>   40.823</td> <td> 0.000</td> <td>    0.494</td> <td>    0.544</td>\n",
       "</tr>\n",
       "<tr>\n",
       "  <th>WindDir3pm_E</th>    <td>    0.5032</td> <td>    0.013</td> <td>   39.284</td> <td> 0.000</td> <td>    0.478</td> <td>    0.528</td>\n",
       "</tr>\n",
       "<tr>\n",
       "  <th>WindDir3pm_ENE</th>  <td>    0.5038</td> <td>    0.013</td> <td>   39.442</td> <td> 0.000</td> <td>    0.479</td> <td>    0.529</td>\n",
       "</tr>\n",
       "<tr>\n",
       "  <th>WindDir3pm_ESE</th>  <td>    0.5064</td> <td>    0.013</td> <td>   39.506</td> <td> 0.000</td> <td>    0.481</td> <td>    0.532</td>\n",
       "</tr>\n",
       "<tr>\n",
       "  <th>WindDir3pm_N</th>    <td>    0.5458</td> <td>    0.013</td> <td>   43.226</td> <td> 0.000</td> <td>    0.521</td> <td>    0.571</td>\n",
       "</tr>\n",
       "<tr>\n",
       "  <th>WindDir3pm_NE</th>   <td>    0.5055</td> <td>    0.013</td> <td>   39.631</td> <td> 0.000</td> <td>    0.481</td> <td>    0.531</td>\n",
       "</tr>\n",
       "<tr>\n",
       "  <th>WindDir3pm_NNE</th>  <td>    0.5347</td> <td>    0.013</td> <td>   41.931</td> <td> 0.000</td> <td>    0.510</td> <td>    0.560</td>\n",
       "</tr>\n",
       "<tr>\n",
       "  <th>WindDir3pm_NNW</th>  <td>    0.5605</td> <td>    0.013</td> <td>   44.576</td> <td> 0.000</td> <td>    0.536</td> <td>    0.585</td>\n",
       "</tr>\n",
       "<tr>\n",
       "  <th>WindDir3pm_NW</th>   <td>    0.5630</td> <td>    0.012</td> <td>   45.057</td> <td> 0.000</td> <td>    0.539</td> <td>    0.587</td>\n",
       "</tr>\n",
       "<tr>\n",
       "  <th>WindDir3pm_S</th>    <td>    0.5179</td> <td>    0.013</td> <td>   40.432</td> <td> 0.000</td> <td>    0.493</td> <td>    0.543</td>\n",
       "</tr>\n",
       "<tr>\n",
       "  <th>WindDir3pm_SE</th>   <td>    0.5082</td> <td>    0.013</td> <td>   39.749</td> <td> 0.000</td> <td>    0.483</td> <td>    0.533</td>\n",
       "</tr>\n",
       "<tr>\n",
       "  <th>WindDir3pm_SSE</th>  <td>    0.5075</td> <td>    0.013</td> <td>   39.581</td> <td> 0.000</td> <td>    0.482</td> <td>    0.533</td>\n",
       "</tr>\n",
       "<tr>\n",
       "  <th>WindDir3pm_SSW</th>  <td>    0.5228</td> <td>    0.013</td> <td>   41.014</td> <td> 0.000</td> <td>    0.498</td> <td>    0.548</td>\n",
       "</tr>\n",
       "<tr>\n",
       "  <th>WindDir3pm_SW</th>   <td>    0.5224</td> <td>    0.013</td> <td>   41.403</td> <td> 0.000</td> <td>    0.498</td> <td>    0.547</td>\n",
       "</tr>\n",
       "<tr>\n",
       "  <th>WindDir3pm_W</th>    <td>    0.5412</td> <td>    0.012</td> <td>   43.520</td> <td> 0.000</td> <td>    0.517</td> <td>    0.566</td>\n",
       "</tr>\n",
       "<tr>\n",
       "  <th>WindDir3pm_WNW</th>  <td>    0.5472</td> <td>    0.012</td> <td>   44.003</td> <td> 0.000</td> <td>    0.523</td> <td>    0.572</td>\n",
       "</tr>\n",
       "<tr>\n",
       "  <th>WindDir3pm_WSW</th>  <td>    0.5366</td> <td>    0.013</td> <td>   42.838</td> <td> 0.000</td> <td>    0.512</td> <td>    0.561</td>\n",
       "</tr>\n",
       "<tr>\n",
       "  <th>RainToday_No</th>    <td>    4.1540</td> <td>    0.099</td> <td>   42.049</td> <td> 0.000</td> <td>    3.960</td> <td>    4.348</td>\n",
       "</tr>\n",
       "<tr>\n",
       "  <th>RainToday_Yes</th>   <td>    4.2729</td> <td>    0.099</td> <td>   43.312</td> <td> 0.000</td> <td>    4.080</td> <td>    4.466</td>\n",
       "</tr>\n",
       "</table>\n",
       "<table class=\"simpletable\">\n",
       "<tr>\n",
       "  <th>Omnibus:</th>       <td>37812.580</td> <th>  Durbin-Watson:     </th>  <td>   1.935</td> \n",
       "</tr>\n",
       "<tr>\n",
       "  <th>Prob(Omnibus):</th>  <td> 0.000</td>   <th>  Jarque-Bera (JB):  </th> <td>246096.306</td>\n",
       "</tr>\n",
       "<tr>\n",
       "  <th>Skew:</th>           <td> 0.644</td>   <th>  Prob(JB):          </th>  <td>    0.00</td> \n",
       "</tr>\n",
       "<tr>\n",
       "  <th>Kurtosis:</th>       <td> 7.937</td>   <th>  Cond. No.          </th>  <td>5.82e+18</td> \n",
       "</tr>\n",
       "</table><br/><br/>Notes:<br/>[1] Standard Errors assume that the covariance matrix of the errors is correctly specified.<br/>[2] The smallest eigenvalue is 1.39e-26. This might indicate that there are<br/>strong multicollinearity problems or that the design matrix is singular."
      ],
      "text/plain": [
       "<class 'statsmodels.iolib.summary.Summary'>\n",
       "\"\"\"\n",
       "                            OLS Regression Results                            \n",
       "==============================================================================\n",
       "Dep. Variable:           RainTomorrow   R-squared:                       0.404\n",
       "Model:                            OLS   Adj. R-squared:                  0.403\n",
       "Method:                 Least Squares   F-statistic:                     2435.\n",
       "Date:                Fri, 09 Jun 2023   Prob (F-statistic):               0.00\n",
       "Time:                        14:43:17   Log-Likelihood:                -61735.\n",
       "No. Observations:              226868   AIC:                         1.236e+05\n",
       "Df Residuals:                  226804   BIC:                         1.243e+05\n",
       "Df Model:                          63                                         \n",
       "Covariance Type:            nonrobust                                         \n",
       "===================================================================================\n",
       "                      coef    std err          t      P>|t|      [0.025      0.975]\n",
       "-----------------------------------------------------------------------------------\n",
       "MinTemp             0.0002      0.000      0.717      0.474      -0.000       0.001\n",
       "MaxTemp            -0.0013      0.000     -2.738      0.006      -0.002      -0.000\n",
       "Rainfall           -0.0012   9.49e-05    -13.139      0.000      -0.001      -0.001\n",
       "Evaporation         0.0010      0.000      3.676      0.000       0.000       0.001\n",
       "Sunshine           -0.0120      0.000    -33.464      0.000      -0.013      -0.011\n",
       "WindGustSpeed       0.0053   8.18e-05     64.804      0.000       0.005       0.005\n",
       "WindSpeed9am       -0.0006      0.000     -5.906      0.000      -0.001      -0.000\n",
       "WindSpeed3pm       -0.0032      0.000    -28.705      0.000      -0.003      -0.003\n",
       "Humidity9am        -0.0008   6.69e-05    -11.899      0.000      -0.001      -0.001\n",
       "Humidity3pm         0.0062   7.61e-05     81.711      0.000       0.006       0.006\n",
       "Pressure9am         0.0068      0.000     14.944      0.000       0.006       0.008\n",
       "Pressure3pm        -0.0127      0.000    -27.724      0.000      -0.014      -0.012\n",
       "Cloud9am           -0.0005      0.000     -1.324      0.186      -0.001       0.000\n",
       "Cloud3pm            0.0093      0.000     21.939      0.000       0.009       0.010\n",
       "Temp9am            -0.0030      0.000     -6.659      0.000      -0.004      -0.002\n",
       "Temp3pm             0.0033      0.000      6.851      0.000       0.002       0.004\n",
       "RISK_MM             0.0164   8.88e-05    185.117      0.000       0.016       0.017\n",
       "WindGustDir_E       0.5251      0.013     41.103      0.000       0.500       0.550\n",
       "WindGustDir_ENE     0.5215      0.013     40.862      0.000       0.496       0.547\n",
       "WindGustDir_ESE     0.5340      0.013     41.746      0.000       0.509       0.559\n",
       "WindGustDir_N       0.5233      0.013     41.267      0.000       0.498       0.548\n",
       "WindGustDir_NE      0.5124      0.013     39.977      0.000       0.487       0.538\n",
       "WindGustDir_NNE     0.5122      0.013     39.937      0.000       0.487       0.537\n",
       "WindGustDir_NNW     0.5320      0.013     41.991      0.000       0.507       0.557\n",
       "WindGustDir_NW      0.5216      0.013     41.510      0.000       0.497       0.546\n",
       "WindGustDir_S       0.5301      0.013     41.614      0.000       0.505       0.555\n",
       "WindGustDir_SE      0.5391      0.013     42.233      0.000       0.514       0.564\n",
       "WindGustDir_SSE     0.5339      0.013     41.851      0.000       0.509       0.559\n",
       "WindGustDir_SSW     0.5307      0.013     41.867      0.000       0.506       0.556\n",
       "WindGustDir_SW      0.5373      0.013     42.611      0.000       0.513       0.562\n",
       "WindGustDir_W       0.5185      0.012     41.532      0.000       0.494       0.543\n",
       "WindGustDir_WNW     0.5236      0.013     41.789      0.000       0.499       0.548\n",
       "WindGustDir_WSW     0.5316      0.013     42.315      0.000       0.507       0.556\n",
       "WindDir9am_E        0.5293      0.013     41.814      0.000       0.504       0.554\n",
       "WindDir9am_ENE      0.5484      0.013     43.165      0.000       0.523       0.573\n",
       "WindDir9am_ESE      0.5163      0.013     40.708      0.000       0.491       0.541\n",
       "WindDir9am_N        0.5574      0.013     44.374      0.000       0.533       0.582\n",
       "WindDir9am_NE       0.5499      0.013     43.261      0.000       0.525       0.575\n",
       "WindDir9am_NNE      0.5643      0.013     44.482      0.000       0.539       0.589\n",
       "WindDir9am_NNW      0.5365      0.013     42.800      0.000       0.512       0.561\n",
       "WindDir9am_NW       0.5286      0.013     42.115      0.000       0.504       0.553\n",
       "WindDir9am_S        0.5017      0.013     39.501      0.000       0.477       0.527\n",
       "WindDir9am_SE       0.5048      0.013     39.968      0.000       0.480       0.530\n",
       "WindDir9am_SSE      0.5062      0.013     39.981      0.000       0.481       0.531\n",
       "WindDir9am_SSW      0.5047      0.013     39.648      0.000       0.480       0.530\n",
       "WindDir9am_SW       0.5189      0.013     40.752      0.000       0.494       0.544\n",
       "WindDir9am_W        0.5171      0.013     41.324      0.000       0.493       0.542\n",
       "WindDir9am_WNW      0.5238      0.013     41.568      0.000       0.499       0.548\n",
       "WindDir9am_WSW      0.5191      0.013     40.823      0.000       0.494       0.544\n",
       "WindDir3pm_E        0.5032      0.013     39.284      0.000       0.478       0.528\n",
       "WindDir3pm_ENE      0.5038      0.013     39.442      0.000       0.479       0.529\n",
       "WindDir3pm_ESE      0.5064      0.013     39.506      0.000       0.481       0.532\n",
       "WindDir3pm_N        0.5458      0.013     43.226      0.000       0.521       0.571\n",
       "WindDir3pm_NE       0.5055      0.013     39.631      0.000       0.481       0.531\n",
       "WindDir3pm_NNE      0.5347      0.013     41.931      0.000       0.510       0.560\n",
       "WindDir3pm_NNW      0.5605      0.013     44.576      0.000       0.536       0.585\n",
       "WindDir3pm_NW       0.5630      0.012     45.057      0.000       0.539       0.587\n",
       "WindDir3pm_S        0.5179      0.013     40.432      0.000       0.493       0.543\n",
       "WindDir3pm_SE       0.5082      0.013     39.749      0.000       0.483       0.533\n",
       "WindDir3pm_SSE      0.5075      0.013     39.581      0.000       0.482       0.533\n",
       "WindDir3pm_SSW      0.5228      0.013     41.014      0.000       0.498       0.548\n",
       "WindDir3pm_SW       0.5224      0.013     41.403      0.000       0.498       0.547\n",
       "WindDir3pm_W        0.5412      0.012     43.520      0.000       0.517       0.566\n",
       "WindDir3pm_WNW      0.5472      0.012     44.003      0.000       0.523       0.572\n",
       "WindDir3pm_WSW      0.5366      0.013     42.838      0.000       0.512       0.561\n",
       "RainToday_No        4.1540      0.099     42.049      0.000       3.960       4.348\n",
       "RainToday_Yes       4.2729      0.099     43.312      0.000       4.080       4.466\n",
       "==============================================================================\n",
       "Omnibus:                    37812.580   Durbin-Watson:                   1.935\n",
       "Prob(Omnibus):                  0.000   Jarque-Bera (JB):           246096.306\n",
       "Skew:                           0.644   Prob(JB):                         0.00\n",
       "Kurtosis:                       7.937   Cond. No.                     5.82e+18\n",
       "==============================================================================\n",
       "\n",
       "Notes:\n",
       "[1] Standard Errors assume that the covariance matrix of the errors is correctly specified.\n",
       "[2] The smallest eigenvalue is 1.39e-26. This might indicate that there are\n",
       "strong multicollinearity problems or that the design matrix is singular.\n",
       "\"\"\""
      ]
     },
     "execution_count": 46,
     "metadata": {},
     "output_type": "execute_result"
    }
   ],
   "source": [
    "lm.summary()"
   ]
  },
  {
   "cell_type": "markdown",
   "id": "ceafcf12",
   "metadata": {},
   "source": [
    "                                           MODEL EVALUATION"
   ]
  },
  {
   "cell_type": "code",
   "execution_count": 47,
   "id": "42d2fc65",
   "metadata": {},
   "outputs": [],
   "source": [
    "from sklearn.model_selection import train_test_split"
   ]
  },
  {
   "cell_type": "code",
   "execution_count": 48,
   "id": "9627da90",
   "metadata": {},
   "outputs": [],
   "source": [
    "X_train, X_test, Y_train, Y_test = train_test_split(X,Y, test_size = 0.2, random_state= 0)"
   ]
  },
  {
   "cell_type": "code",
   "execution_count": 49,
   "id": "38f5dcb6",
   "metadata": {},
   "outputs": [
    {
     "name": "stdout",
     "output_type": "stream",
     "text": [
      "(181494, 67) (45374, 67) (181494,) (45374,)\n"
     ]
    }
   ],
   "source": [
    "print(X_train.shape,X_test.shape,Y_train.shape,Y_test.shape)"
   ]
  },
  {
   "cell_type": "code",
   "execution_count": 50,
   "id": "4ab36d6f",
   "metadata": {},
   "outputs": [],
   "source": [
    "lm_a = LinearRegression()"
   ]
  },
  {
   "cell_type": "code",
   "execution_count": 51,
   "id": "5c33536f",
   "metadata": {},
   "outputs": [
    {
     "data": {
      "text/plain": [
       "LinearRegression()"
      ]
     },
     "execution_count": 51,
     "metadata": {},
     "output_type": "execute_result"
    }
   ],
   "source": [
    "lm_a.fit(X,Y)"
   ]
  },
  {
   "cell_type": "code",
   "execution_count": 52,
   "id": "f5ae9e8d",
   "metadata": {},
   "outputs": [],
   "source": [
    "Y_train_a = lm_a.predict(X_train)\n",
    "Y_test_a = lm_a.predict(X_test)"
   ]
  },
  {
   "cell_type": "code",
   "execution_count": 53,
   "id": "4357d0f8",
   "metadata": {},
   "outputs": [],
   "source": [
    "from sklearn.metrics import r2_score"
   ]
  },
  {
   "cell_type": "code",
   "execution_count": 54,
   "id": "68e442b4",
   "metadata": {},
   "outputs": [
    {
     "data": {
      "text/plain": [
       "0.4050746223037254"
      ]
     },
     "execution_count": 54,
     "metadata": {},
     "output_type": "execute_result"
    }
   ],
   "source": [
    "r2_score(Y_train,Y_train_a)"
   ]
  },
  {
   "cell_type": "code",
   "execution_count": 55,
   "id": "652528f9",
   "metadata": {},
   "outputs": [
    {
     "data": {
      "text/plain": [
       "0.397288598839568"
      ]
     },
     "execution_count": 55,
     "metadata": {},
     "output_type": "execute_result"
    }
   ],
   "source": [
    "r2_score(Y_test,Y_test_a)"
   ]
  },
  {
   "cell_type": "markdown",
   "id": "7ee41fb5",
   "metadata": {},
   "source": [
    "Logistic Regression"
   ]
  },
  {
   "cell_type": "code",
   "execution_count": 56,
   "id": "566ec962",
   "metadata": {},
   "outputs": [],
   "source": [
    "from sklearn.linear_model import LogisticRegression"
   ]
  },
  {
   "cell_type": "code",
   "execution_count": 57,
   "id": "076f360f",
   "metadata": {},
   "outputs": [],
   "source": [
    "x = df.loc[:,df.columns !='RainTomorrow']\n",
    "y = df['RainTomorrow']"
   ]
  },
  {
   "cell_type": "code",
   "execution_count": 58,
   "id": "4de0c728",
   "metadata": {},
   "outputs": [
    {
     "name": "stderr",
     "output_type": "stream",
     "text": [
      "C:\\Users\\Welcome\\anaconda3\\lib\\site-packages\\sklearn\\linear_model\\_logistic.py:814: ConvergenceWarning: lbfgs failed to converge (status=1):\n",
      "STOP: TOTAL NO. of ITERATIONS REACHED LIMIT.\n",
      "\n",
      "Increase the number of iterations (max_iter) or scale the data as shown in:\n",
      "    https://scikit-learn.org/stable/modules/preprocessing.html\n",
      "Please also refer to the documentation for alternative solver options:\n",
      "    https://scikit-learn.org/stable/modules/linear_model.html#logistic-regression\n",
      "  n_iter_i = _check_optimize_result(\n"
     ]
    },
    {
     "data": {
      "text/plain": [
       "LogisticRegression()"
      ]
     },
     "execution_count": 58,
     "metadata": {},
     "output_type": "execute_result"
    }
   ],
   "source": [
    "clf_lr = LogisticRegression()\n",
    "clf_lr.fit(x,y)"
   ]
  },
  {
   "cell_type": "code",
   "execution_count": 59,
   "id": "be5be886",
   "metadata": {},
   "outputs": [
    {
     "data": {
      "text/plain": [
       "array([[ 3.12392208e-02, -3.28162990e-02,  2.96597238e-02,\n",
       "        -4.88868443e-02, -2.06955813e-01,  1.01755684e-02,\n",
       "        -2.09802390e-02,  3.66054543e-02, -1.05401667e-03,\n",
       "         1.46242081e-02,  3.96161158e-02, -4.56224378e-02,\n",
       "         1.04906935e-01,  1.96187024e-01,  7.84347301e-03,\n",
       "        -1.37958668e-03,  2.47874973e+00, -7.36030636e-03,\n",
       "        -3.19152014e-03, -5.83935611e-03,  1.04916996e-02,\n",
       "        -3.53411604e-03,  1.04062124e-03,  1.19553201e-02,\n",
       "         1.05216935e-02, -7.95139714e-03, -5.92398309e-03,\n",
       "        -7.46910131e-03, -4.87044224e-03,  2.17740645e-03,\n",
       "        -7.59894160e-04,  8.33657343e-03,  3.12983043e-03,\n",
       "        -5.84036956e-03,  1.93762322e-03, -7.54493159e-03,\n",
       "         1.79602466e-02,  4.17042395e-03,  1.13538706e-02,\n",
       "         9.58330250e-03,  5.94218073e-03, -9.18810415e-03,\n",
       "        -9.73635516e-03, -8.38278337e-03, -6.46863547e-03,\n",
       "         1.04674578e-04, -5.36154144e-03,  2.37595986e-03,\n",
       "        -1.52533153e-04, -7.59724277e-03, -5.71418815e-03,\n",
       "        -7.39599081e-03,  1.10426709e-02, -4.91564089e-03,\n",
       "         3.78155251e-03,  1.44789811e-02,  1.53766897e-02,\n",
       "        -1.04234046e-02, -8.89506966e-03, -1.03667729e-02,\n",
       "        -5.74244252e-03, -3.74783785e-03,  9.65917831e-03,\n",
       "         9.00086346e-03,  2.21168233e-03, -4.99463865e-02,\n",
       "         5.06994146e-02]])"
      ]
     },
     "execution_count": 59,
     "metadata": {},
     "output_type": "execute_result"
    }
   ],
   "source": [
    "clf_lr.coef_"
   ]
  },
  {
   "cell_type": "code",
   "execution_count": 60,
   "id": "39105603",
   "metadata": {},
   "outputs": [
    {
     "data": {
      "text/plain": [
       "array([0.00075304])"
      ]
     },
     "execution_count": 60,
     "metadata": {},
     "output_type": "execute_result"
    }
   ],
   "source": [
    "clf_lr.intercept_\n"
   ]
  },
  {
   "cell_type": "code",
   "execution_count": 61,
   "id": "3f2051d3",
   "metadata": {},
   "outputs": [],
   "source": [
    "X_cons = sn.add_constant(X)"
   ]
  },
  {
   "cell_type": "code",
   "execution_count": 62,
   "id": "34650b60",
   "metadata": {},
   "outputs": [
    {
     "name": "stdout",
     "output_type": "stream",
     "text": [
      "Optimization terminated successfully.\n",
      "         Current function value: 0.094731\n",
      "         Iterations 17\n"
     ]
    }
   ],
   "source": [
    "from statsmodels.discrete.discrete_model import Logit\n",
    "logit = Logit(y, X_cons).fit()"
   ]
  },
  {
   "cell_type": "code",
   "execution_count": 63,
   "id": "783344d1",
   "metadata": {},
   "outputs": [
    {
     "data": {
      "text/html": [
       "<table class=\"simpletable\">\n",
       "<caption>Logit Regression Results</caption>\n",
       "<tr>\n",
       "  <th>Dep. Variable:</th>     <td>RainTomorrow</td>   <th>  No. Observations:  </th>   <td>226868</td>   \n",
       "</tr>\n",
       "<tr>\n",
       "  <th>Model:</th>                 <td>Logit</td>      <th>  Df Residuals:      </th>   <td>226804</td>   \n",
       "</tr>\n",
       "<tr>\n",
       "  <th>Method:</th>                 <td>MLE</td>       <th>  Df Model:          </th>   <td>    63</td>   \n",
       "</tr>\n",
       "<tr>\n",
       "  <th>Date:</th>            <td>Fri, 09 Jun 2023</td> <th>  Pseudo R-squ.:     </th>   <td>0.8183</td>   \n",
       "</tr>\n",
       "<tr>\n",
       "  <th>Time:</th>                <td>14:43:49</td>     <th>  Log-Likelihood:    </th>  <td> -21491.</td>  \n",
       "</tr>\n",
       "<tr>\n",
       "  <th>converged:</th>             <td>True</td>       <th>  LL-Null:           </th> <td>-1.1828e+05</td>\n",
       "</tr>\n",
       "<tr>\n",
       "  <th>Covariance Type:</th>     <td>nonrobust</td>    <th>  LLR p-value:       </th>   <td> 0.000</td>   \n",
       "</tr>\n",
       "</table>\n",
       "<table class=\"simpletable\">\n",
       "<tr>\n",
       "         <td></td>            <th>coef</th>     <th>std err</th>      <th>z</th>      <th>P>|z|</th>  <th>[0.025</th>    <th>0.975]</th>  \n",
       "</tr>\n",
       "<tr>\n",
       "  <th>const</th>           <td>  -12.1769</td> <td>      nan</td> <td>      nan</td> <td>   nan</td> <td>      nan</td> <td>      nan</td>\n",
       "</tr>\n",
       "<tr>\n",
       "  <th>MinTemp</th>         <td>    0.0336</td> <td>    0.007</td> <td>    5.082</td> <td> 0.000</td> <td>    0.021</td> <td>    0.047</td>\n",
       "</tr>\n",
       "<tr>\n",
       "  <th>MaxTemp</th>         <td>   -0.0116</td> <td>    0.008</td> <td>   -1.458</td> <td> 0.145</td> <td>   -0.027</td> <td>    0.004</td>\n",
       "</tr>\n",
       "<tr>\n",
       "  <th>Rainfall</th>        <td>   -0.0028</td> <td>    0.002</td> <td>   -1.584</td> <td> 0.113</td> <td>   -0.006</td> <td>    0.001</td>\n",
       "</tr>\n",
       "<tr>\n",
       "  <th>Evaporation</th>     <td>   -0.0175</td> <td>    0.006</td> <td>   -3.095</td> <td> 0.002</td> <td>   -0.029</td> <td>   -0.006</td>\n",
       "</tr>\n",
       "<tr>\n",
       "  <th>Sunshine</th>        <td>   -0.0770</td> <td>    0.006</td> <td>  -11.865</td> <td> 0.000</td> <td>   -0.090</td> <td>   -0.064</td>\n",
       "</tr>\n",
       "<tr>\n",
       "  <th>WindGustSpeed</th>   <td>    0.0151</td> <td>    0.002</td> <td>   10.000</td> <td> 0.000</td> <td>    0.012</td> <td>    0.018</td>\n",
       "</tr>\n",
       "<tr>\n",
       "  <th>WindSpeed9am</th>    <td>   -0.0224</td> <td>    0.002</td> <td>  -11.124</td> <td> 0.000</td> <td>   -0.026</td> <td>   -0.018</td>\n",
       "</tr>\n",
       "<tr>\n",
       "  <th>WindSpeed3pm</th>    <td>    0.0185</td> <td>    0.002</td> <td>    8.901</td> <td> 0.000</td> <td>    0.014</td> <td>    0.023</td>\n",
       "</tr>\n",
       "<tr>\n",
       "  <th>Humidity9am</th>     <td>   -0.0023</td> <td>    0.001</td> <td>   -1.699</td> <td> 0.089</td> <td>   -0.005</td> <td>    0.000</td>\n",
       "</tr>\n",
       "<tr>\n",
       "  <th>Humidity3pm</th>     <td>    0.0228</td> <td>    0.001</td> <td>   15.823</td> <td> 0.000</td> <td>    0.020</td> <td>    0.026</td>\n",
       "</tr>\n",
       "<tr>\n",
       "  <th>Pressure9am</th>     <td>   -0.0874</td> <td>    0.008</td> <td>  -11.066</td> <td> 0.000</td> <td>   -0.103</td> <td>   -0.072</td>\n",
       "</tr>\n",
       "<tr>\n",
       "  <th>Pressure3pm</th>     <td>    0.1014</td> <td>    0.008</td> <td>   12.847</td> <td> 0.000</td> <td>    0.086</td> <td>    0.117</td>\n",
       "</tr>\n",
       "<tr>\n",
       "  <th>Cloud9am</th>        <td>    0.0016</td> <td>    0.008</td> <td>    0.189</td> <td> 0.850</td> <td>   -0.015</td> <td>    0.018</td>\n",
       "</tr>\n",
       "<tr>\n",
       "  <th>Cloud3pm</th>        <td>    0.1258</td> <td>    0.009</td> <td>   14.030</td> <td> 0.000</td> <td>    0.108</td> <td>    0.143</td>\n",
       "</tr>\n",
       "<tr>\n",
       "  <th>Temp9am</th>         <td>   -0.0105</td> <td>    0.009</td> <td>   -1.145</td> <td> 0.252</td> <td>   -0.028</td> <td>    0.007</td>\n",
       "</tr>\n",
       "<tr>\n",
       "  <th>Temp3pm</th>         <td>    0.0133</td> <td>    0.009</td> <td>    1.458</td> <td> 0.145</td> <td>   -0.005</td> <td>    0.031</td>\n",
       "</tr>\n",
       "<tr>\n",
       "  <th>RISK_MM</th>         <td>    2.5664</td> <td>    0.016</td> <td>  159.493</td> <td> 0.000</td> <td>    2.535</td> <td>    2.598</td>\n",
       "</tr>\n",
       "<tr>\n",
       "  <th>WindGustDir_E</th>   <td>   -1.0535</td> <td> 1.16e+06</td> <td>-9.04e-07</td> <td> 1.000</td> <td>-2.28e+06</td> <td> 2.28e+06</td>\n",
       "</tr>\n",
       "<tr>\n",
       "  <th>WindGustDir_ENE</th> <td>   -0.8755</td> <td> 1.16e+06</td> <td>-7.55e-07</td> <td> 1.000</td> <td>-2.27e+06</td> <td> 2.27e+06</td>\n",
       "</tr>\n",
       "<tr>\n",
       "  <th>WindGustDir_ESE</th> <td>   -1.1043</td> <td> 1.17e+06</td> <td>-9.46e-07</td> <td> 1.000</td> <td>-2.29e+06</td> <td> 2.29e+06</td>\n",
       "</tr>\n",
       "<tr>\n",
       "  <th>WindGustDir_N</th>   <td>   -0.6781</td> <td> 1.15e+06</td> <td>-5.88e-07</td> <td> 1.000</td> <td>-2.26e+06</td> <td> 2.26e+06</td>\n",
       "</tr>\n",
       "<tr>\n",
       "  <th>WindGustDir_NE</th>  <td>   -0.6342</td> <td> 1.16e+06</td> <td>-5.47e-07</td> <td> 1.000</td> <td>-2.27e+06</td> <td> 2.27e+06</td>\n",
       "</tr>\n",
       "<tr>\n",
       "  <th>WindGustDir_NNE</th> <td>   -0.6958</td> <td> 1.16e+06</td> <td>-6.01e-07</td> <td> 1.000</td> <td>-2.27e+06</td> <td> 2.27e+06</td>\n",
       "</tr>\n",
       "<tr>\n",
       "  <th>WindGustDir_NNW</th> <td>   -0.3515</td> <td> 1.17e+06</td> <td>-3.01e-07</td> <td> 1.000</td> <td>-2.29e+06</td> <td> 2.29e+06</td>\n",
       "</tr>\n",
       "<tr>\n",
       "  <th>WindGustDir_NW</th>  <td>   -0.6971</td> <td> 1.16e+06</td> <td>-6.03e-07</td> <td> 1.000</td> <td>-2.27e+06</td> <td> 2.27e+06</td>\n",
       "</tr>\n",
       "<tr>\n",
       "  <th>WindGustDir_S</th>   <td>   -0.6148</td> <td> 1.16e+06</td> <td> -5.3e-07</td> <td> 1.000</td> <td>-2.28e+06</td> <td> 2.28e+06</td>\n",
       "</tr>\n",
       "<tr>\n",
       "  <th>WindGustDir_SE</th>  <td>   -0.7725</td> <td> 1.16e+06</td> <td>-6.66e-07</td> <td> 1.000</td> <td>-2.27e+06</td> <td> 2.27e+06</td>\n",
       "</tr>\n",
       "<tr>\n",
       "  <th>WindGustDir_SSE</th> <td>   -0.7453</td> <td> 1.16e+06</td> <td>-6.43e-07</td> <td> 1.000</td> <td>-2.27e+06</td> <td> 2.27e+06</td>\n",
       "</tr>\n",
       "<tr>\n",
       "  <th>WindGustDir_SSW</th> <td>   -0.4717</td> <td> 1.16e+06</td> <td>-4.08e-07</td> <td> 1.000</td> <td>-2.27e+06</td> <td> 2.27e+06</td>\n",
       "</tr>\n",
       "<tr>\n",
       "  <th>WindGustDir_SW</th>  <td>   -0.5975</td> <td> 1.17e+06</td> <td>-5.13e-07</td> <td> 1.000</td> <td>-2.28e+06</td> <td> 2.28e+06</td>\n",
       "</tr>\n",
       "<tr>\n",
       "  <th>WindGustDir_W</th>   <td>   -1.4973</td> <td> 1.15e+06</td> <td> -1.3e-06</td> <td> 1.000</td> <td>-2.26e+06</td> <td> 2.26e+06</td>\n",
       "</tr>\n",
       "<tr>\n",
       "  <th>WindGustDir_WNW</th> <td>   -0.6704</td> <td> 1.16e+06</td> <td>-5.77e-07</td> <td> 1.000</td> <td>-2.28e+06</td> <td> 2.28e+06</td>\n",
       "</tr>\n",
       "<tr>\n",
       "  <th>WindGustDir_WSW</th> <td>   -0.7172</td> <td> 1.17e+06</td> <td>-6.15e-07</td> <td> 1.000</td> <td>-2.29e+06</td> <td> 2.29e+06</td>\n",
       "</tr>\n",
       "<tr>\n",
       "  <th>WindDir9am_E</th>    <td>   -0.7771</td> <td>      nan</td> <td>      nan</td> <td>   nan</td> <td>      nan</td> <td>      nan</td>\n",
       "</tr>\n",
       "<tr>\n",
       "  <th>WindDir9am_ENE</th>  <td>   -0.4706</td> <td>      nan</td> <td>      nan</td> <td>   nan</td> <td>      nan</td> <td>      nan</td>\n",
       "</tr>\n",
       "<tr>\n",
       "  <th>WindDir9am_ESE</th>  <td>   -0.9935</td> <td>      nan</td> <td>      nan</td> <td>   nan</td> <td>      nan</td> <td>      nan</td>\n",
       "</tr>\n",
       "<tr>\n",
       "  <th>WindDir9am_N</th>    <td>   -0.6147</td> <td>      nan</td> <td>      nan</td> <td>   nan</td> <td>      nan</td> <td>      nan</td>\n",
       "</tr>\n",
       "<tr>\n",
       "  <th>WindDir9am_NE</th>   <td>   -0.6050</td> <td>      nan</td> <td>      nan</td> <td>   nan</td> <td>      nan</td> <td>      nan</td>\n",
       "</tr>\n",
       "<tr>\n",
       "  <th>WindDir9am_NNE</th>  <td>   -0.5054</td> <td>      nan</td> <td>      nan</td> <td>   nan</td> <td>      nan</td> <td>      nan</td>\n",
       "</tr>\n",
       "<tr>\n",
       "  <th>WindDir9am_NNW</th>  <td>   -0.6284</td> <td>      nan</td> <td>      nan</td> <td>   nan</td> <td>      nan</td> <td>      nan</td>\n",
       "</tr>\n",
       "<tr>\n",
       "  <th>WindDir9am_NW</th>   <td>   -0.8381</td> <td>      nan</td> <td>      nan</td> <td>   nan</td> <td>      nan</td> <td>      nan</td>\n",
       "</tr>\n",
       "<tr>\n",
       "  <th>WindDir9am_S</th>    <td>   -0.7527</td> <td>      nan</td> <td>      nan</td> <td>   nan</td> <td>      nan</td> <td>      nan</td>\n",
       "</tr>\n",
       "<tr>\n",
       "  <th>WindDir9am_SE</th>   <td>   -0.9677</td> <td>      nan</td> <td>      nan</td> <td>   nan</td> <td>      nan</td> <td>      nan</td>\n",
       "</tr>\n",
       "<tr>\n",
       "  <th>WindDir9am_SSE</th>  <td>   -0.8355</td> <td>      nan</td> <td>      nan</td> <td>   nan</td> <td>      nan</td> <td>      nan</td>\n",
       "</tr>\n",
       "<tr>\n",
       "  <th>WindDir9am_SSW</th>  <td>   -0.7819</td> <td>      nan</td> <td>      nan</td> <td>   nan</td> <td>      nan</td> <td>      nan</td>\n",
       "</tr>\n",
       "<tr>\n",
       "  <th>WindDir9am_SW</th>   <td>   -0.6606</td> <td>      nan</td> <td>      nan</td> <td>   nan</td> <td>      nan</td> <td>      nan</td>\n",
       "</tr>\n",
       "<tr>\n",
       "  <th>WindDir9am_W</th>    <td>   -0.9773</td> <td>      nan</td> <td>      nan</td> <td>   nan</td> <td>      nan</td> <td>      nan</td>\n",
       "</tr>\n",
       "<tr>\n",
       "  <th>WindDir9am_WNW</th>  <td>   -0.8965</td> <td>      nan</td> <td>      nan</td> <td>   nan</td> <td>      nan</td> <td>      nan</td>\n",
       "</tr>\n",
       "<tr>\n",
       "  <th>WindDir9am_WSW</th>  <td>   -0.8718</td> <td>      nan</td> <td>      nan</td> <td>   nan</td> <td>      nan</td> <td>      nan</td>\n",
       "</tr>\n",
       "<tr>\n",
       "  <th>WindDir3pm_E</th>    <td>   -1.1049</td> <td>      nan</td> <td>      nan</td> <td>   nan</td> <td>      nan</td> <td>      nan</td>\n",
       "</tr>\n",
       "<tr>\n",
       "  <th>WindDir3pm_ENE</th>  <td>   -0.9222</td> <td>      nan</td> <td>      nan</td> <td>   nan</td> <td>      nan</td> <td>      nan</td>\n",
       "</tr>\n",
       "<tr>\n",
       "  <th>WindDir3pm_ESE</th>  <td>   -1.1234</td> <td>      nan</td> <td>      nan</td> <td>   nan</td> <td>      nan</td> <td>      nan</td>\n",
       "</tr>\n",
       "<tr>\n",
       "  <th>WindDir3pm_N</th>    <td>   -0.5128</td> <td>      nan</td> <td>      nan</td> <td>   nan</td> <td>      nan</td> <td>      nan</td>\n",
       "</tr>\n",
       "<tr>\n",
       "  <th>WindDir3pm_NE</th>   <td>   -0.5793</td> <td>      nan</td> <td>      nan</td> <td>   nan</td> <td>      nan</td> <td>      nan</td>\n",
       "</tr>\n",
       "<tr>\n",
       "  <th>WindDir3pm_NNE</th>  <td>   -0.6128</td> <td>      nan</td> <td>      nan</td> <td>   nan</td> <td>      nan</td> <td>      nan</td>\n",
       "</tr>\n",
       "<tr>\n",
       "  <th>WindDir3pm_NNW</th>  <td>   -0.3280</td> <td>      nan</td> <td>      nan</td> <td>   nan</td> <td>      nan</td> <td>      nan</td>\n",
       "</tr>\n",
       "<tr>\n",
       "  <th>WindDir3pm_NW</th>   <td>   -0.2881</td> <td>      nan</td> <td>      nan</td> <td>   nan</td> <td>      nan</td> <td>      nan</td>\n",
       "</tr>\n",
       "<tr>\n",
       "  <th>WindDir3pm_S</th>    <td>   -1.2489</td> <td>      nan</td> <td>      nan</td> <td>   nan</td> <td>      nan</td> <td>      nan</td>\n",
       "</tr>\n",
       "<tr>\n",
       "  <th>WindDir3pm_SE</th>   <td>   -0.9086</td> <td>      nan</td> <td>      nan</td> <td>   nan</td> <td>      nan</td> <td>      nan</td>\n",
       "</tr>\n",
       "<tr>\n",
       "  <th>WindDir3pm_SSE</th>  <td>   -1.1382</td> <td>      nan</td> <td>      nan</td> <td>   nan</td> <td>      nan</td> <td>      nan</td>\n",
       "</tr>\n",
       "<tr>\n",
       "  <th>WindDir3pm_SSW</th>  <td>   -1.0698</td> <td>      nan</td> <td>      nan</td> <td>   nan</td> <td>      nan</td> <td>      nan</td>\n",
       "</tr>\n",
       "<tr>\n",
       "  <th>WindDir3pm_SW</th>   <td>   -0.8593</td> <td>      nan</td> <td>      nan</td> <td>   nan</td> <td>      nan</td> <td>      nan</td>\n",
       "</tr>\n",
       "<tr>\n",
       "  <th>WindDir3pm_W</th>    <td>   -0.5150</td> <td>      nan</td> <td>      nan</td> <td>   nan</td> <td>      nan</td> <td>      nan</td>\n",
       "</tr>\n",
       "<tr>\n",
       "  <th>WindDir3pm_WNW</th>  <td>   -0.4407</td> <td>      nan</td> <td>      nan</td> <td>   nan</td> <td>      nan</td> <td>      nan</td>\n",
       "</tr>\n",
       "<tr>\n",
       "  <th>WindDir3pm_WSW</th>  <td>   -0.5248</td> <td>      nan</td> <td>      nan</td> <td>   nan</td> <td>      nan</td> <td>      nan</td>\n",
       "</tr>\n",
       "<tr>\n",
       "  <th>RainToday_No</th>    <td>   -6.6225</td> <td>      nan</td> <td>      nan</td> <td>   nan</td> <td>      nan</td> <td>      nan</td>\n",
       "</tr>\n",
       "<tr>\n",
       "  <th>RainToday_Yes</th>   <td>   -5.5544</td> <td>      nan</td> <td>      nan</td> <td>   nan</td> <td>      nan</td> <td>      nan</td>\n",
       "</tr>\n",
       "</table><br/><br/>Possibly complete quasi-separation: A fraction 0.11 of observations can be<br/>perfectly predicted. This might indicate that there is complete<br/>quasi-separation. In this case some parameters will not be identified."
      ],
      "text/plain": [
       "<class 'statsmodels.iolib.summary.Summary'>\n",
       "\"\"\"\n",
       "                           Logit Regression Results                           \n",
       "==============================================================================\n",
       "Dep. Variable:           RainTomorrow   No. Observations:               226868\n",
       "Model:                          Logit   Df Residuals:                   226804\n",
       "Method:                           MLE   Df Model:                           63\n",
       "Date:                Fri, 09 Jun 2023   Pseudo R-squ.:                  0.8183\n",
       "Time:                        14:43:49   Log-Likelihood:                -21491.\n",
       "converged:                       True   LL-Null:                   -1.1828e+05\n",
       "Covariance Type:            nonrobust   LLR p-value:                     0.000\n",
       "===================================================================================\n",
       "                      coef    std err          z      P>|z|      [0.025      0.975]\n",
       "-----------------------------------------------------------------------------------\n",
       "const             -12.1769        nan        nan        nan         nan         nan\n",
       "MinTemp             0.0336      0.007      5.082      0.000       0.021       0.047\n",
       "MaxTemp            -0.0116      0.008     -1.458      0.145      -0.027       0.004\n",
       "Rainfall           -0.0028      0.002     -1.584      0.113      -0.006       0.001\n",
       "Evaporation        -0.0175      0.006     -3.095      0.002      -0.029      -0.006\n",
       "Sunshine           -0.0770      0.006    -11.865      0.000      -0.090      -0.064\n",
       "WindGustSpeed       0.0151      0.002     10.000      0.000       0.012       0.018\n",
       "WindSpeed9am       -0.0224      0.002    -11.124      0.000      -0.026      -0.018\n",
       "WindSpeed3pm        0.0185      0.002      8.901      0.000       0.014       0.023\n",
       "Humidity9am        -0.0023      0.001     -1.699      0.089      -0.005       0.000\n",
       "Humidity3pm         0.0228      0.001     15.823      0.000       0.020       0.026\n",
       "Pressure9am        -0.0874      0.008    -11.066      0.000      -0.103      -0.072\n",
       "Pressure3pm         0.1014      0.008     12.847      0.000       0.086       0.117\n",
       "Cloud9am            0.0016      0.008      0.189      0.850      -0.015       0.018\n",
       "Cloud3pm            0.1258      0.009     14.030      0.000       0.108       0.143\n",
       "Temp9am            -0.0105      0.009     -1.145      0.252      -0.028       0.007\n",
       "Temp3pm             0.0133      0.009      1.458      0.145      -0.005       0.031\n",
       "RISK_MM             2.5664      0.016    159.493      0.000       2.535       2.598\n",
       "WindGustDir_E      -1.0535   1.16e+06  -9.04e-07      1.000   -2.28e+06    2.28e+06\n",
       "WindGustDir_ENE    -0.8755   1.16e+06  -7.55e-07      1.000   -2.27e+06    2.27e+06\n",
       "WindGustDir_ESE    -1.1043   1.17e+06  -9.46e-07      1.000   -2.29e+06    2.29e+06\n",
       "WindGustDir_N      -0.6781   1.15e+06  -5.88e-07      1.000   -2.26e+06    2.26e+06\n",
       "WindGustDir_NE     -0.6342   1.16e+06  -5.47e-07      1.000   -2.27e+06    2.27e+06\n",
       "WindGustDir_NNE    -0.6958   1.16e+06  -6.01e-07      1.000   -2.27e+06    2.27e+06\n",
       "WindGustDir_NNW    -0.3515   1.17e+06  -3.01e-07      1.000   -2.29e+06    2.29e+06\n",
       "WindGustDir_NW     -0.6971   1.16e+06  -6.03e-07      1.000   -2.27e+06    2.27e+06\n",
       "WindGustDir_S      -0.6148   1.16e+06   -5.3e-07      1.000   -2.28e+06    2.28e+06\n",
       "WindGustDir_SE     -0.7725   1.16e+06  -6.66e-07      1.000   -2.27e+06    2.27e+06\n",
       "WindGustDir_SSE    -0.7453   1.16e+06  -6.43e-07      1.000   -2.27e+06    2.27e+06\n",
       "WindGustDir_SSW    -0.4717   1.16e+06  -4.08e-07      1.000   -2.27e+06    2.27e+06\n",
       "WindGustDir_SW     -0.5975   1.17e+06  -5.13e-07      1.000   -2.28e+06    2.28e+06\n",
       "WindGustDir_W      -1.4973   1.15e+06   -1.3e-06      1.000   -2.26e+06    2.26e+06\n",
       "WindGustDir_WNW    -0.6704   1.16e+06  -5.77e-07      1.000   -2.28e+06    2.28e+06\n",
       "WindGustDir_WSW    -0.7172   1.17e+06  -6.15e-07      1.000   -2.29e+06    2.29e+06\n",
       "WindDir9am_E       -0.7771        nan        nan        nan         nan         nan\n",
       "WindDir9am_ENE     -0.4706        nan        nan        nan         nan         nan\n",
       "WindDir9am_ESE     -0.9935        nan        nan        nan         nan         nan\n",
       "WindDir9am_N       -0.6147        nan        nan        nan         nan         nan\n",
       "WindDir9am_NE      -0.6050        nan        nan        nan         nan         nan\n",
       "WindDir9am_NNE     -0.5054        nan        nan        nan         nan         nan\n",
       "WindDir9am_NNW     -0.6284        nan        nan        nan         nan         nan\n",
       "WindDir9am_NW      -0.8381        nan        nan        nan         nan         nan\n",
       "WindDir9am_S       -0.7527        nan        nan        nan         nan         nan\n",
       "WindDir9am_SE      -0.9677        nan        nan        nan         nan         nan\n",
       "WindDir9am_SSE     -0.8355        nan        nan        nan         nan         nan\n",
       "WindDir9am_SSW     -0.7819        nan        nan        nan         nan         nan\n",
       "WindDir9am_SW      -0.6606        nan        nan        nan         nan         nan\n",
       "WindDir9am_W       -0.9773        nan        nan        nan         nan         nan\n",
       "WindDir9am_WNW     -0.8965        nan        nan        nan         nan         nan\n",
       "WindDir9am_WSW     -0.8718        nan        nan        nan         nan         nan\n",
       "WindDir3pm_E       -1.1049        nan        nan        nan         nan         nan\n",
       "WindDir3pm_ENE     -0.9222        nan        nan        nan         nan         nan\n",
       "WindDir3pm_ESE     -1.1234        nan        nan        nan         nan         nan\n",
       "WindDir3pm_N       -0.5128        nan        nan        nan         nan         nan\n",
       "WindDir3pm_NE      -0.5793        nan        nan        nan         nan         nan\n",
       "WindDir3pm_NNE     -0.6128        nan        nan        nan         nan         nan\n",
       "WindDir3pm_NNW     -0.3280        nan        nan        nan         nan         nan\n",
       "WindDir3pm_NW      -0.2881        nan        nan        nan         nan         nan\n",
       "WindDir3pm_S       -1.2489        nan        nan        nan         nan         nan\n",
       "WindDir3pm_SE      -0.9086        nan        nan        nan         nan         nan\n",
       "WindDir3pm_SSE     -1.1382        nan        nan        nan         nan         nan\n",
       "WindDir3pm_SSW     -1.0698        nan        nan        nan         nan         nan\n",
       "WindDir3pm_SW      -0.8593        nan        nan        nan         nan         nan\n",
       "WindDir3pm_W       -0.5150        nan        nan        nan         nan         nan\n",
       "WindDir3pm_WNW     -0.4407        nan        nan        nan         nan         nan\n",
       "WindDir3pm_WSW     -0.5248        nan        nan        nan         nan         nan\n",
       "RainToday_No       -6.6225        nan        nan        nan         nan         nan\n",
       "RainToday_Yes      -5.5544        nan        nan        nan         nan         nan\n",
       "===================================================================================\n",
       "\n",
       "Possibly complete quasi-separation: A fraction 0.11 of observations can be\n",
       "perfectly predicted. This might indicate that there is complete\n",
       "quasi-separation. In this case some parameters will not be identified.\n",
       "\"\"\""
      ]
     },
     "execution_count": 63,
     "metadata": {},
     "output_type": "execute_result"
    }
   ],
   "source": [
    "logit.summary()"
   ]
  },
  {
   "cell_type": "code",
   "execution_count": 64,
   "id": "6a637245",
   "metadata": {},
   "outputs": [
    {
     "data": {
      "text/plain": [
       "array([[0.99462738, 0.00537262],\n",
       "       [0.99555946, 0.00444054],\n",
       "       [0.99753729, 0.00246271],\n",
       "       ...,\n",
       "       [0.99813581, 0.00186419],\n",
       "       [0.99890883, 0.00109117],\n",
       "       [0.99784998, 0.00215002]])"
      ]
     },
     "execution_count": 64,
     "metadata": {},
     "output_type": "execute_result"
    }
   ],
   "source": [
    "clf_lr.predict_proba(x)"
   ]
  },
  {
   "cell_type": "code",
   "execution_count": 65,
   "id": "9ba893df",
   "metadata": {},
   "outputs": [],
   "source": [
    "y_pred = clf_lr.predict(x)"
   ]
  },
  {
   "cell_type": "code",
   "execution_count": 66,
   "id": "082d778e",
   "metadata": {},
   "outputs": [
    {
     "data": {
      "text/plain": [
       "array([0., 0., 0., ..., 0., 0., 0.])"
      ]
     },
     "execution_count": 66,
     "metadata": {},
     "output_type": "execute_result"
    }
   ],
   "source": [
    "y_pred"
   ]
  },
  {
   "cell_type": "code",
   "execution_count": 67,
   "id": "882f81d9",
   "metadata": {},
   "outputs": [],
   "source": [
    "y_pred_03 = (clf_lr.predict_proba(x)[:,1]>=0.3)"
   ]
  },
  {
   "cell_type": "code",
   "execution_count": 68,
   "id": "c23c60b5",
   "metadata": {},
   "outputs": [
    {
     "data": {
      "text/plain": [
       "array([False, False, False, ..., False, False, False])"
      ]
     },
     "execution_count": 68,
     "metadata": {},
     "output_type": "execute_result"
    }
   ],
   "source": [
    "y_pred_03"
   ]
  },
  {
   "cell_type": "code",
   "execution_count": 69,
   "id": "801df39a",
   "metadata": {},
   "outputs": [
    {
     "data": {
      "text/plain": [
       "array([[171956,   5983],\n",
       "       [  6681,  42248]], dtype=int64)"
      ]
     },
     "execution_count": 69,
     "metadata": {},
     "output_type": "execute_result"
    }
   ],
   "source": [
    "from sklearn.metrics import confusion_matrix\n",
    "confusion_matrix(y,y_pred)"
   ]
  },
  {
   "cell_type": "code",
   "execution_count": 70,
   "id": "cc545fac",
   "metadata": {},
   "outputs": [
    {
     "data": {
      "text/plain": [
       "array([[170538,   7401],\n",
       "       [  4082,  44847]], dtype=int64)"
      ]
     },
     "execution_count": 70,
     "metadata": {},
     "output_type": "execute_result"
    }
   ],
   "source": [
    "cm=confusion_matrix(y,y_pred_03)\n",
    "cm"
   ]
  },
  {
   "cell_type": "code",
   "execution_count": 71,
   "id": "40f3f54a",
   "metadata": {},
   "outputs": [
    {
     "data": {
      "image/png": "[encoded data removed]",
      "text/plain": [
       "<Figure size 640x480 with 1 Axes>"
      ]
     },
     "metadata": {},
     "output_type": "display_data"
    }
   ],
   "source": [
    "fig, ax = plt.subplots()\n",
    "sns.heatmap(cm, annot=True, fmt='d', cmap='Blues', cbar=False, ax=ax)\n",
    "ax.set_xlabel('Predicted')\n",
    "ax.set_ylabel('True')\n",
    "ax.set_title('Confusion Matrix')\n",
    "tick_labels = ['Negative', 'Positive']\n",
    "ax.set_xticklabels(tick_labels)\n",
    "ax.set_yticklabels(tick_labels)\n",
    "plt.show()"
   ]
  },
  {
   "cell_type": "code",
   "execution_count": 72,
   "id": "b36eccb6",
   "metadata": {},
   "outputs": [],
   "source": [
    "from sklearn.metrics import precision_score, recall_score"
   ]
  },
  {
   "cell_type": "code",
   "execution_count": 73,
   "id": "5802087d",
   "metadata": {},
   "outputs": [
    {
     "data": {
      "text/plain": [
       "0.8759511517488752"
      ]
     },
     "execution_count": 73,
     "metadata": {},
     "output_type": "execute_result"
    }
   ],
   "source": [
    "precision_score(y,y_pred)"
   ]
  },
  {
   "cell_type": "code",
   "execution_count": 74,
   "id": "a12cd4d0",
   "metadata": {},
   "outputs": [
    {
     "data": {
      "text/plain": [
       "0.8634552106112939"
      ]
     },
     "execution_count": 74,
     "metadata": {},
     "output_type": "execute_result"
    }
   ],
   "source": [
    "recall_score(y,y_pred)"
   ]
  },
  {
   "cell_type": "code",
   "execution_count": 75,
   "id": "504820b0",
   "metadata": {},
   "outputs": [],
   "source": [
    "from sklearn.metrics import roc_auc_score"
   ]
  },
  {
   "cell_type": "code",
   "execution_count": 76,
   "id": "e55c8f99",
   "metadata": {},
   "outputs": [
    {
     "data": {
      "text/plain": [
       "0.9149156641347962"
      ]
     },
     "execution_count": 76,
     "metadata": {},
     "output_type": "execute_result"
    }
   ],
   "source": [
    "roc_auc_score(y,y_pred)"
   ]
  },
  {
   "cell_type": "markdown",
   "id": "365a7f59",
   "metadata": {},
   "source": [
    "                                         Linear Discriminant analysis(LDA)"
   ]
  },
  {
   "cell_type": "code",
   "execution_count": 77,
   "id": "5b947c92",
   "metadata": {},
   "outputs": [],
   "source": [
    "from sklearn.discriminant_analysis import LinearDiscriminantAnalysis"
   ]
  },
  {
   "cell_type": "code",
   "execution_count": 78,
   "id": "60969bce",
   "metadata": {},
   "outputs": [
    {
     "data": {
      "text/plain": [
       "LinearDiscriminantAnalysis()"
      ]
     },
     "execution_count": 78,
     "metadata": {},
     "output_type": "execute_result"
    }
   ],
   "source": [
    "clf_lda = LinearDiscriminantAnalysis()\n",
    "clf_lda.fit(x, y)"
   ]
  },
  {
   "cell_type": "code",
   "execution_count": 79,
   "id": "4fe18914",
   "metadata": {},
   "outputs": [],
   "source": [
    "y_pred_lda = clf_lda.predict(x)"
   ]
  },
  {
   "cell_type": "code",
   "execution_count": 80,
   "id": "d9b9edd7",
   "metadata": {},
   "outputs": [
    {
     "data": {
      "text/plain": [
       "array([0., 0., 0., ..., 0., 0., 0.])"
      ]
     },
     "execution_count": 80,
     "metadata": {},
     "output_type": "execute_result"
    }
   ],
   "source": [
    "y_pred_lda"
   ]
  },
  {
   "cell_type": "code",
   "execution_count": 81,
   "id": "9ecba674",
   "metadata": {},
   "outputs": [
    {
     "data": {
      "text/plain": [
       "array([[174224,   3715],\n",
       "       [ 23628,  25301]], dtype=int64)"
      ]
     },
     "execution_count": 81,
     "metadata": {},
     "output_type": "execute_result"
    }
   ],
   "source": [
    "cla = confusion_matrix(y, y_pred_lda)\n",
    "cla"
   ]
  },
  {
   "cell_type": "code",
   "execution_count": 82,
   "id": "a8ce1966",
   "metadata": {},
   "outputs": [
    {
     "data": {
      "image/png": "[encoded data removed]",
      "text/plain": [
       "<Figure size 640x480 with 1 Axes>"
      ]
     },
     "metadata": {},
     "output_type": "display_data"
    }
   ],
   "source": [
    "fig, ax = plt.subplots()\n",
    "sns.heatmap(cla, annot=True, fmt='d', cmap='Blues', cbar=False, ax=ax)\n",
    "ax.set_xlabel('Predicted')\n",
    "ax.set_ylabel('True')\n",
    "ax.set_title('Confusion Matrix')\n",
    "tick_labels = ['Negative', 'Positive']\n",
    "ax.set_xticklabels(tick_labels)\n",
    "ax.set_yticklabels(tick_labels)\n",
    "plt.show()"
   ]
  },
  {
   "cell_type": "code",
   "execution_count": 83,
   "id": "eab2a095",
   "metadata": {},
   "outputs": [
    {
     "data": {
      "text/plain": [
       "0.8719671905155776"
      ]
     },
     "execution_count": 83,
     "metadata": {},
     "output_type": "execute_result"
    }
   ],
   "source": [
    "precision_score(y,y_pred_lda)"
   ]
  },
  {
   "cell_type": "markdown",
   "id": "49f28192",
   "metadata": {},
   "source": [
    "                                             K-Nearest Neighbours"
   ]
  },
  {
   "cell_type": "code",
   "execution_count": 84,
   "id": "e76d5adf",
   "metadata": {},
   "outputs": [],
   "source": [
    "X_multi = df.drop(\"RainTomorrow\",axis =1)\n",
    "Y_multi = df['RainTomorrow']"
   ]
  },
  {
   "cell_type": "code",
   "execution_count": 85,
   "id": "9c653598",
   "metadata": {},
   "outputs": [],
   "source": [
    "X_train, X_test, y_train, y_test = train_test_split(X_multi, Y_multi, test_size = 0.2, random_state= 0)"
   ]
  },
  {
   "cell_type": "code",
   "execution_count": 86,
   "id": "44812bad",
   "metadata": {},
   "outputs": [
    {
     "name": "stdout",
     "output_type": "stream",
     "text": [
      "(181494, 67) (45374, 67) (181494,) (45374,)\n"
     ]
    }
   ],
   "source": [
    "print(X_train.shape, X_test.shape, y_train.shape, y_test.shape)"
   ]
  },
  {
   "cell_type": "code",
   "execution_count": 87,
   "id": "42f2a3e5",
   "metadata": {},
   "outputs": [],
   "source": [
    "from sklearn import preprocessing \n",
    "scaler = preprocessing.StandardScaler().fit(X_train)\n",
    "X_train_s = scaler.transform(X_train)"
   ]
  },
  {
   "cell_type": "code",
   "execution_count": 88,
   "id": "c2866526",
   "metadata": {},
   "outputs": [],
   "source": [
    "scaler = preprocessing.StandardScaler().fit(X_test)\n",
    "X_test_s = scaler.transform(X_test)"
   ]
  },
  {
   "cell_type": "code",
   "execution_count": 89,
   "id": "7d03c488",
   "metadata": {
    "scrolled": true
   },
   "outputs": [
    {
     "data": {
      "text/plain": [
       "array([[ 1.2057934 ,  1.9584654 ,  0.27071615, ..., -0.26125067,\n",
       "        -1.91799287,  1.91799287],\n",
       "       [-0.23918561,  0.33393255, -0.2654699 , ...,  3.82774137,\n",
       "         0.52137837, -0.52137837],\n",
       "       [ 0.49901019,  0.91311382, -0.2654699 , ..., -0.26125067,\n",
       "         0.52137837, -0.52137837],\n",
       "       ...,\n",
       "       [ 0.57754166,  0.51757539, -0.2654699 , ..., -0.26125067,\n",
       "         0.52137837, -0.52137837],\n",
       "       [-2.18676603, -1.14933658, -0.2654699 , ..., -0.26125067,\n",
       "         0.52137837, -0.52137837],\n",
       "       [-1.10303177, -0.47127069, -0.2654699 , ..., -0.26125067,\n",
       "         0.52137837, -0.52137837]])"
      ]
     },
     "execution_count": 89,
     "metadata": {},
     "output_type": "execute_result"
    }
   ],
   "source": [
    "X_test_s"
   ]
  },
  {
   "cell_type": "markdown",
   "id": "dc6c441a",
   "metadata": {},
   "source": [
    "The Precision score of both Logistic regression and LDA are high which means that the model is capable of making accurate positive predictions. The higher the precision score, the lower the number of false positive prediction."
   ]
  }
 ],
 "metadata": {
  "kernelspec": {
   "display_name": "Python 3 (ipykernel)",
   "language": "python",
   "name": "python3"
  },
  "language_info": {
   "codemirror_mode": {
    "name": "ipython",
    "version": 3
   },
   "file_extension": ".py",
   "mimetype": "text/x-python",
   "name": "python",
   "nbconvert_exporter": "python",
   "pygments_lexer": "ipython3",
   "version": "3.9.13"
  }
 },
 "nbformat": 4,
 "nbformat_minor": 5
}
